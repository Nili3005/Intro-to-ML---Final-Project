{
  "cells": [
    {
      "cell_type": "markdown",
      "metadata": {
        "id": "view-in-github",
        "colab_type": "text"
      },
      "source": [
        "<a href=\"https://colab.research.google.com/github/Nili3005/ML/blob/main/Project_Demo.ipynb\" target=\"_parent\"><img src=\"https://colab.research.google.com/assets/colab-badge.svg\" alt=\"Open In Colab\"/></a>"
      ]
    },
    {
      "cell_type": "code",
      "source": [
        "!pip install --upgrade ngboost\n",
        "!pip install ucimlrepo"
      ],
      "metadata": {
        "colab": {
          "base_uri": "https://localhost:8080/"
        },
        "id": "uEiQTmeWako1",
        "outputId": "8d0c8d5f-4977-4908-844a-9d52ca28a944"
      },
      "execution_count": 67,
      "outputs": [
        {
          "output_type": "stream",
          "name": "stdout",
          "text": [
            "Requirement already satisfied: ngboost in /usr/local/lib/python3.10/dist-packages (0.4.2)\n",
            "Requirement already satisfied: lifelines>=0.25 in /usr/local/lib/python3.10/dist-packages (from ngboost) (0.27.8)\n",
            "Requirement already satisfied: numpy>=1.21.2 in /usr/local/lib/python3.10/dist-packages (from ngboost) (1.23.5)\n",
            "Requirement already satisfied: scikit-learn>=1.0.2 in /usr/local/lib/python3.10/dist-packages (from ngboost) (1.2.2)\n",
            "Requirement already satisfied: scipy>=1.7.2 in /usr/local/lib/python3.10/dist-packages (from ngboost) (1.11.4)\n",
            "Requirement already satisfied: tqdm>=4.3 in /usr/local/lib/python3.10/dist-packages (from ngboost) (4.66.1)\n",
            "Requirement already satisfied: pandas>=1.0.0 in /usr/local/lib/python3.10/dist-packages (from lifelines>=0.25->ngboost) (1.5.3)\n",
            "Requirement already satisfied: matplotlib>=3.0 in /usr/local/lib/python3.10/dist-packages (from lifelines>=0.25->ngboost) (3.7.1)\n",
            "Requirement already satisfied: autograd>=1.5 in /usr/local/lib/python3.10/dist-packages (from lifelines>=0.25->ngboost) (1.6.2)\n",
            "Requirement already satisfied: autograd-gamma>=0.3 in /usr/local/lib/python3.10/dist-packages (from lifelines>=0.25->ngboost) (0.5.0)\n",
            "Requirement already satisfied: formulaic>=0.2.2 in /usr/local/lib/python3.10/dist-packages (from lifelines>=0.25->ngboost) (0.6.6)\n",
            "Requirement already satisfied: joblib>=1.1.1 in /usr/local/lib/python3.10/dist-packages (from scikit-learn>=1.0.2->ngboost) (1.3.2)\n",
            "Requirement already satisfied: threadpoolctl>=2.0.0 in /usr/local/lib/python3.10/dist-packages (from scikit-learn>=1.0.2->ngboost) (3.2.0)\n",
            "Requirement already satisfied: future>=0.15.2 in /usr/local/lib/python3.10/dist-packages (from autograd>=1.5->lifelines>=0.25->ngboost) (0.18.3)\n",
            "Requirement already satisfied: astor>=0.8 in /usr/local/lib/python3.10/dist-packages (from formulaic>=0.2.2->lifelines>=0.25->ngboost) (0.8.1)\n",
            "Requirement already satisfied: interface-meta>=1.2.0 in /usr/local/lib/python3.10/dist-packages (from formulaic>=0.2.2->lifelines>=0.25->ngboost) (1.3.0)\n",
            "Requirement already satisfied: typing-extensions>=4.2.0 in /usr/local/lib/python3.10/dist-packages (from formulaic>=0.2.2->lifelines>=0.25->ngboost) (4.5.0)\n",
            "Requirement already satisfied: wrapt>=1.0 in /usr/local/lib/python3.10/dist-packages (from formulaic>=0.2.2->lifelines>=0.25->ngboost) (1.14.1)\n",
            "Requirement already satisfied: contourpy>=1.0.1 in /usr/local/lib/python3.10/dist-packages (from matplotlib>=3.0->lifelines>=0.25->ngboost) (1.2.0)\n",
            "Requirement already satisfied: cycler>=0.10 in /usr/local/lib/python3.10/dist-packages (from matplotlib>=3.0->lifelines>=0.25->ngboost) (0.12.1)\n",
            "Requirement already satisfied: fonttools>=4.22.0 in /usr/local/lib/python3.10/dist-packages (from matplotlib>=3.0->lifelines>=0.25->ngboost) (4.45.1)\n",
            "Requirement already satisfied: kiwisolver>=1.0.1 in /usr/local/lib/python3.10/dist-packages (from matplotlib>=3.0->lifelines>=0.25->ngboost) (1.4.5)\n",
            "Requirement already satisfied: packaging>=20.0 in /usr/local/lib/python3.10/dist-packages (from matplotlib>=3.0->lifelines>=0.25->ngboost) (23.2)\n",
            "Requirement already satisfied: pillow>=6.2.0 in /usr/local/lib/python3.10/dist-packages (from matplotlib>=3.0->lifelines>=0.25->ngboost) (9.4.0)\n",
            "Requirement already satisfied: pyparsing>=2.3.1 in /usr/local/lib/python3.10/dist-packages (from matplotlib>=3.0->lifelines>=0.25->ngboost) (3.1.1)\n",
            "Requirement already satisfied: python-dateutil>=2.7 in /usr/local/lib/python3.10/dist-packages (from matplotlib>=3.0->lifelines>=0.25->ngboost) (2.8.2)\n",
            "Requirement already satisfied: pytz>=2020.1 in /usr/local/lib/python3.10/dist-packages (from pandas>=1.0.0->lifelines>=0.25->ngboost) (2023.3.post1)\n",
            "Requirement already satisfied: six>=1.5 in /usr/local/lib/python3.10/dist-packages (from python-dateutil>=2.7->matplotlib>=3.0->lifelines>=0.25->ngboost) (1.16.0)\n",
            "Requirement already satisfied: ucimlrepo in /usr/local/lib/python3.10/dist-packages (0.0.3)\n"
          ]
        }
      ]
    },
    {
      "cell_type": "markdown",
      "metadata": {
        "id": "6v68EV_fYGBt"
      },
      "source": [
        "# Usage\n",
        "\n",
        "We'll start with a probabilistic regression example on the Boston housing dataset:"
      ]
    },
    {
      "cell_type": "code",
      "execution_count": 68,
      "metadata": {
        "tags": [
          "remove_cell"
        ],
        "id": "B69cHiqVYGBw"
      },
      "outputs": [],
      "source": [
        "import sys\n",
        "sys.path.append('/Users/c242587/Desktop/projects/git/ngboost')"
      ]
    },
    {
      "cell_type": "code",
      "execution_count": 69,
      "metadata": {
        "id": "wF7W2EDIYGBx",
        "outputId": "be66a060-d364-4149-df14-f884a07e56ba",
        "colab": {
          "base_uri": "https://localhost:8080/"
        }
      },
      "outputs": [
        {
          "output_type": "stream",
          "name": "stdout",
          "text": [
            "[iter 0] loss=1.2878 val_loss=0.0000 scale=1.0000 norm=0.9177\n",
            "[iter 100] loss=1.1094 val_loss=0.0000 scale=1.0000 norm=0.7897\n",
            "[iter 200] loss=1.0362 val_loss=0.0000 scale=1.0000 norm=0.7637\n",
            "[iter 300] loss=0.9956 val_loss=0.0000 scale=1.0000 norm=0.7548\n",
            "[iter 400] loss=0.9698 val_loss=0.0000 scale=1.0000 norm=0.7502\n",
            "Test MSE 0.4574650960932763\n",
            "Test NLL 1.0008041686298093\n"
          ]
        }
      ],
      "source": [
        "from ngboost import NGBRegressor\n",
        "\n",
        "import pandas as pd\n",
        "import numpy as np\n",
        "\n",
        "#from sklearn.datasets import load_boston\n",
        "from sklearn.model_selection import train_test_split\n",
        "from sklearn.metrics import mean_squared_error\n",
        "from ucimlrepo import fetch_ucirepo\n",
        "\n",
        "#Fetch dataset\n",
        "wine_quality = fetch_ucirepo(id=186)\n",
        "\n",
        "X = wine_quality.data.features\n",
        "Y = wine_quality.data.targets\n",
        "\n",
        "#Flatten Y using ravel()\n",
        "Y = np.ravel(Y)\n",
        "\n",
        "#X, Y = load_boston(True)\n",
        "#data_url = \"http://lib.stat.cmu.edu/datasets/boston\"\n",
        "#raw_df = pd.read_csv(data_url, sep=\"\\s+\", skiprows=22, header=None)\n",
        "#X = np.hstack([raw_df.values[::2, :], raw_df.values[1::2, :2]])\n",
        "#Y = raw_df.values[1::2, 2]\n",
        "X_train, X_test, Y_train, Y_test = train_test_split(X, Y, test_size=0.2)\n",
        "\n",
        "ngb = NGBRegressor().fit(X_train, Y_train)\n",
        "Y_preds = ngb.predict(X_test)\n",
        "Y_dists = ngb.pred_dist(X_test)\n",
        "\n",
        "# test Mean Squared Error\n",
        "test_MSE = mean_squared_error(Y_preds, Y_test)\n",
        "print('Test MSE', test_MSE)\n",
        "\n",
        "# test Negative Log Likelihood\n",
        "test_NLL = -Y_dists.logpdf(Y_test).mean()\n",
        "print('Test NLL', test_NLL)"
      ]
    },
    {
      "cell_type": "markdown",
      "metadata": {
        "id": "yfLWEN1-YGBy"
      },
      "source": [
        "Getting the estimated distributional parameters at a set of points is easy. This returns the predicted mean and standard deviation of the first five observations in the test set:"
      ]
    },
    {
      "cell_type": "code",
      "execution_count": 70,
      "metadata": {
        "id": "IhCybQf8YGBz",
        "outputId": "96acfce9-0083-4658-ad7a-bc3a88feec4e",
        "colab": {
          "base_uri": "https://localhost:8080/"
        }
      },
      "outputs": [
        {
          "output_type": "execute_result",
          "data": {
            "text/plain": [
              "{'loc': array([5.61728423, 5.91117852, 5.50297282, 5.33244466, 5.95333415]),\n",
              " 'scale': array([0.74652614, 0.58328679, 0.59505202, 0.50551899, 0.78658114])}"
            ]
          },
          "metadata": {},
          "execution_count": 70
        }
      ],
      "source": [
        "Y_dists[0:5].params"
      ]
    },
    {
      "cell_type": "markdown",
      "metadata": {
        "id": "UNBbqxuMYGBz"
      },
      "source": [
        "## Distributions\n",
        "\n",
        "NGBoost can be used with a variety of distributions, broken down into those for regression (support on an infinite set) and those for classification (support on a finite set)."
      ]
    },
    {
      "cell_type": "markdown",
      "metadata": {
        "id": "ZkmsiM1JYGB0"
      },
      "source": [
        "### Regression Distributions"
      ]
    },
    {
      "cell_type": "markdown",
      "metadata": {
        "id": "ebYJtImvYGB0"
      },
      "source": [
        "| Distribution | Parameters | Implemented Scores | Reference |\n",
        "| --- | --- | --- | --- |\n",
        "| `Normal` | `loc`, `scale` | `LogScore`, `CRPScore` | [`scipy.stats` normal](https://docs.scipy.org/doc/scipy/reference/generated/scipy.stats.norm.html) |\n",
        "| `LogNormal` | `s`, `scale` | `LogScore`, `CRPScore` | [`scipy.stats` lognormal](https://docs.scipy.org/doc/scipy/reference/generated/scipy.stats.lognorm.html) |\n",
        "| `Exponential` | `scale` | `LogScore`, `CRPScore` | [`scipy.stats` exponential](https://docs.scipy.org/doc/scipy/reference/generated/scipy.stats.expon.html) |"
      ]
    },
    {
      "cell_type": "markdown",
      "metadata": {
        "id": "eUp6rX89YGB1"
      },
      "source": [
        "Regression distributions can be used through the `NGBRegressor()` constructor by passing the appropriate class as the `Dist` argument. `Normal` is the default."
      ]
    },
    {
      "cell_type": "code",
      "execution_count": 71,
      "metadata": {
        "id": "SzD8-SUVYGB1"
      },
      "outputs": [],
      "source": [
        "from ngboost.distns import Exponential, Normal\n",
        "\n",
        "#X, Y = load_boston(True)\n",
        "X_reg_train, X_reg_test, Y_reg_train, Y_reg_test = train_test_split(X, Y, test_size=0.2)\n",
        "\n",
        "ngb_norm = NGBRegressor(Dist=Normal, verbose=False).fit(X_reg_train, Y_reg_train)\n",
        "ngb_exp = NGBRegressor(Dist=Exponential, verbose=False).fit(X_reg_train, Y_reg_train)"
      ]
    },
    {
      "cell_type": "markdown",
      "metadata": {
        "id": "ihXJ8b0aYGB1"
      },
      "source": [
        "There are two prediction methods for `NGBRegressor` objects: `predict()`, which returns point predictions as one would expect from a standard regressor, and `pred_dist()`, which returns a distribution object representing the conditional distribution of $Y|X=x_i$ at the points $x_i$ in the test set."
      ]
    },
    {
      "cell_type": "code",
      "execution_count": 72,
      "metadata": {
        "id": "mYWitZ9OYGB1",
        "outputId": "e75606f0-0197-420a-ef6a-9c0cd412ac0a",
        "colab": {
          "base_uri": "https://localhost:8080/"
        }
      },
      "outputs": [
        {
          "output_type": "execute_result",
          "data": {
            "text/plain": [
              "array([5.2344753 , 6.23909841, 5.6766842 , 5.66400779, 5.80232086])"
            ]
          },
          "metadata": {},
          "execution_count": 72
        }
      ],
      "source": [
        "ngb_norm.predict(X_reg_test)[0:5]"
      ]
    },
    {
      "cell_type": "code",
      "execution_count": 73,
      "metadata": {
        "id": "5HgrqhoMYGB2",
        "outputId": "744a710a-5033-4e9c-8bf9-9bf7dc13cc40",
        "colab": {
          "base_uri": "https://localhost:8080/"
        }
      },
      "outputs": [
        {
          "output_type": "execute_result",
          "data": {
            "text/plain": [
              "array([5.21600505, 6.28275926, 5.72739419, 5.6669637 , 5.78863671])"
            ]
          },
          "metadata": {},
          "execution_count": 73
        }
      ],
      "source": [
        "ngb_exp.predict(X_reg_test)[0:5]"
      ]
    },
    {
      "cell_type": "code",
      "execution_count": 74,
      "metadata": {
        "id": "8HDlzrWNYGB2",
        "outputId": "f22cf6af-9331-4a0d-86de-96f921280d30",
        "colab": {
          "base_uri": "https://localhost:8080/"
        }
      },
      "outputs": [
        {
          "output_type": "execute_result",
          "data": {
            "text/plain": [
              "{'scale': array([5.21600505, 6.28275926, 5.72739419, 5.6669637 , 5.78863671])}"
            ]
          },
          "metadata": {},
          "execution_count": 74
        }
      ],
      "source": [
        "ngb_exp.pred_dist(X_reg_test)[0:5].params"
      ]
    },
    {
      "cell_type": "markdown",
      "metadata": {
        "id": "2ZlBmH1KYGB2"
      },
      "source": [
        "#### Survival Regression"
      ]
    },
    {
      "cell_type": "markdown",
      "metadata": {
        "id": "Zn7FxIO6YGB3"
      },
      "source": [
        "NGBoost supports analyses of right-censored data. Any distribution that can be used for regression in NGBoost can also be used for survival analysis in theory, but this requires the implementation of the right-censored version of the appropriate score. At the moment, `LogNormal` and `Exponential` have these scores implemented. To do survival analysis, use `NGBSurvival` and pass both the time-to-event (or censoring) and event indicator vectors to  `fit()`:"
      ]
    },
    {
      "cell_type": "code",
      "execution_count": 75,
      "metadata": {
        "id": "byYiYJ5jYGB3",
        "outputId": "3e27e094-4144-4757-f740-1d31d27f38a4",
        "colab": {
          "base_uri": "https://localhost:8080/"
        }
      },
      "outputs": [
        {
          "output_type": "stream",
          "name": "stderr",
          "text": [
            "/usr/local/lib/python3.10/dist-packages/scipy/stats/_continuous_distns.py:6010: RuntimeWarning: overflow encountered in square\n",
            "  lambda x, s: -np.log(x)**2 / (2*s**2) - np.log(s*x*np.sqrt(2*np.pi)),\n",
            "/usr/local/lib/python3.10/dist-packages/ngboost/distns/lognormal.py:108: RuntimeWarning: overflow encountered in exp\n",
            "  self.scale = np.exp(params[1])\n",
            "/usr/local/lib/python3.10/dist-packages/ngboost/distns/lognormal.py:15: RuntimeWarning: invalid value encountered in multiply\n",
            "  uncens = E * self.dist.logpdf(T)\n",
            "/usr/local/lib/python3.10/dist-packages/ngboost/distns/lognormal.py:109: RuntimeWarning: overflow encountered in exp\n",
            "  self.dist = dist(s=self.scale, scale=np.exp(self.loc))\n",
            "/usr/local/lib/python3.10/dist-packages/ngboost/distns/lognormal.py:15: RuntimeWarning: invalid value encountered in multiply\n",
            "  uncens = E * self.dist.logpdf(T)\n",
            "/usr/local/lib/python3.10/dist-packages/ngboost/distns/lognormal.py:109: RuntimeWarning: overflow encountered in exp\n",
            "  self.dist = dist(s=self.scale, scale=np.exp(self.loc))\n",
            "/usr/local/lib/python3.10/dist-packages/ngboost/distns/lognormal.py:15: RuntimeWarning: invalid value encountered in multiply\n",
            "  uncens = E * self.dist.logpdf(T)\n",
            "/usr/local/lib/python3.10/dist-packages/scipy/stats/_continuous_distns.py:6010: RuntimeWarning: overflow encountered in square\n",
            "  lambda x, s: -np.log(x)**2 / (2*s**2) - np.log(s*x*np.sqrt(2*np.pi)),\n"
          ]
        },
        {
          "output_type": "stream",
          "name": "stdout",
          "text": [
            "[iter 0] loss=0.9862 val_loss=0.0000 scale=64.0000 norm=158.3494\n"
          ]
        },
        {
          "output_type": "stream",
          "name": "stderr",
          "text": [
            "/usr/local/lib/python3.10/dist-packages/ngboost/distns/lognormal.py:109: RuntimeWarning: overflow encountered in exp\n",
            "  self.dist = dist(s=self.scale, scale=np.exp(self.loc))\n",
            "/usr/local/lib/python3.10/dist-packages/ngboost/distns/lognormal.py:15: RuntimeWarning: invalid value encountered in multiply\n",
            "  uncens = E * self.dist.logpdf(T)\n",
            "/usr/local/lib/python3.10/dist-packages/ngboost/distns/lognormal.py:109: RuntimeWarning: overflow encountered in exp\n",
            "  self.dist = dist(s=self.scale, scale=np.exp(self.loc))\n",
            "/usr/local/lib/python3.10/dist-packages/ngboost/distns/lognormal.py:15: RuntimeWarning: invalid value encountered in multiply\n",
            "  uncens = E * self.dist.logpdf(T)\n",
            "/usr/local/lib/python3.10/dist-packages/ngboost/distns/lognormal.py:109: RuntimeWarning: overflow encountered in exp\n",
            "  self.dist = dist(s=self.scale, scale=np.exp(self.loc))\n",
            "/usr/local/lib/python3.10/dist-packages/ngboost/distns/lognormal.py:15: RuntimeWarning: invalid value encountered in multiply\n",
            "  uncens = E * self.dist.logpdf(T)\n",
            "/usr/local/lib/python3.10/dist-packages/ngboost/distns/lognormal.py:109: RuntimeWarning: overflow encountered in exp\n",
            "  self.dist = dist(s=self.scale, scale=np.exp(self.loc))\n",
            "/usr/local/lib/python3.10/dist-packages/ngboost/distns/lognormal.py:15: RuntimeWarning: invalid value encountered in multiply\n",
            "  uncens = E * self.dist.logpdf(T)\n"
          ]
        },
        {
          "output_type": "stream",
          "name": "stdout",
          "text": [
            "[iter 100] loss=0.0030 val_loss=0.0000 scale=8.0000 norm=0.3680\n"
          ]
        },
        {
          "output_type": "stream",
          "name": "stderr",
          "text": [
            "/usr/local/lib/python3.10/dist-packages/ngboost/distns/lognormal.py:109: RuntimeWarning: overflow encountered in exp\n",
            "  self.dist = dist(s=self.scale, scale=np.exp(self.loc))\n",
            "/usr/local/lib/python3.10/dist-packages/ngboost/distns/lognormal.py:15: RuntimeWarning: invalid value encountered in multiply\n",
            "  uncens = E * self.dist.logpdf(T)\n",
            "/usr/local/lib/python3.10/dist-packages/ngboost/distns/lognormal.py:109: RuntimeWarning: overflow encountered in exp\n",
            "  self.dist = dist(s=self.scale, scale=np.exp(self.loc))\n",
            "/usr/local/lib/python3.10/dist-packages/ngboost/distns/lognormal.py:15: RuntimeWarning: invalid value encountered in multiply\n",
            "  uncens = E * self.dist.logpdf(T)\n",
            "/usr/local/lib/python3.10/dist-packages/ngboost/distns/lognormal.py:109: RuntimeWarning: overflow encountered in exp\n",
            "  self.dist = dist(s=self.scale, scale=np.exp(self.loc))\n",
            "/usr/local/lib/python3.10/dist-packages/ngboost/distns/lognormal.py:15: RuntimeWarning: invalid value encountered in multiply\n",
            "  uncens = E * self.dist.logpdf(T)\n",
            "/usr/local/lib/python3.10/dist-packages/ngboost/distns/lognormal.py:109: RuntimeWarning: overflow encountered in exp\n",
            "  self.dist = dist(s=self.scale, scale=np.exp(self.loc))\n",
            "/usr/local/lib/python3.10/dist-packages/ngboost/distns/lognormal.py:15: RuntimeWarning: invalid value encountered in multiply\n",
            "  uncens = E * self.dist.logpdf(T)\n",
            "/usr/local/lib/python3.10/dist-packages/ngboost/distns/lognormal.py:109: RuntimeWarning: overflow encountered in exp\n",
            "  self.dist = dist(s=self.scale, scale=np.exp(self.loc))\n",
            "/usr/local/lib/python3.10/dist-packages/ngboost/distns/lognormal.py:15: RuntimeWarning: invalid value encountered in multiply\n",
            "  uncens = E * self.dist.logpdf(T)\n",
            "/usr/local/lib/python3.10/dist-packages/ngboost/distns/lognormal.py:109: RuntimeWarning: overflow encountered in exp\n",
            "  self.dist = dist(s=self.scale, scale=np.exp(self.loc))\n",
            "/usr/local/lib/python3.10/dist-packages/ngboost/distns/lognormal.py:15: RuntimeWarning: invalid value encountered in multiply\n",
            "  uncens = E * self.dist.logpdf(T)\n",
            "/usr/local/lib/python3.10/dist-packages/ngboost/distns/lognormal.py:109: RuntimeWarning: overflow encountered in exp\n",
            "  self.dist = dist(s=self.scale, scale=np.exp(self.loc))\n",
            "/usr/local/lib/python3.10/dist-packages/ngboost/distns/lognormal.py:15: RuntimeWarning: invalid value encountered in multiply\n",
            "  uncens = E * self.dist.logpdf(T)\n",
            "/usr/local/lib/python3.10/dist-packages/ngboost/distns/lognormal.py:109: RuntimeWarning: overflow encountered in exp\n",
            "  self.dist = dist(s=self.scale, scale=np.exp(self.loc))\n",
            "/usr/local/lib/python3.10/dist-packages/ngboost/distns/lognormal.py:15: RuntimeWarning: invalid value encountered in multiply\n",
            "  uncens = E * self.dist.logpdf(T)\n",
            "/usr/local/lib/python3.10/dist-packages/ngboost/distns/lognormal.py:109: RuntimeWarning: overflow encountered in exp\n",
            "  self.dist = dist(s=self.scale, scale=np.exp(self.loc))\n",
            "/usr/local/lib/python3.10/dist-packages/ngboost/distns/lognormal.py:15: RuntimeWarning: invalid value encountered in multiply\n",
            "  uncens = E * self.dist.logpdf(T)\n",
            "/usr/local/lib/python3.10/dist-packages/ngboost/distns/lognormal.py:109: RuntimeWarning: overflow encountered in exp\n",
            "  self.dist = dist(s=self.scale, scale=np.exp(self.loc))\n",
            "/usr/local/lib/python3.10/dist-packages/ngboost/distns/lognormal.py:15: RuntimeWarning: invalid value encountered in multiply\n",
            "  uncens = E * self.dist.logpdf(T)\n",
            "/usr/local/lib/python3.10/dist-packages/ngboost/distns/lognormal.py:109: RuntimeWarning: overflow encountered in exp\n",
            "  self.dist = dist(s=self.scale, scale=np.exp(self.loc))\n",
            "/usr/local/lib/python3.10/dist-packages/ngboost/distns/lognormal.py:15: RuntimeWarning: invalid value encountered in multiply\n",
            "  uncens = E * self.dist.logpdf(T)\n",
            "/usr/local/lib/python3.10/dist-packages/ngboost/distns/lognormal.py:109: RuntimeWarning: overflow encountered in exp\n",
            "  self.dist = dist(s=self.scale, scale=np.exp(self.loc))\n",
            "/usr/local/lib/python3.10/dist-packages/ngboost/distns/lognormal.py:15: RuntimeWarning: invalid value encountered in multiply\n",
            "  uncens = E * self.dist.logpdf(T)\n",
            "/usr/local/lib/python3.10/dist-packages/ngboost/distns/lognormal.py:109: RuntimeWarning: overflow encountered in exp\n",
            "  self.dist = dist(s=self.scale, scale=np.exp(self.loc))\n",
            "/usr/local/lib/python3.10/dist-packages/ngboost/distns/lognormal.py:15: RuntimeWarning: invalid value encountered in multiply\n",
            "  uncens = E * self.dist.logpdf(T)\n",
            "/usr/local/lib/python3.10/dist-packages/ngboost/distns/lognormal.py:109: RuntimeWarning: overflow encountered in exp\n",
            "  self.dist = dist(s=self.scale, scale=np.exp(self.loc))\n",
            "/usr/local/lib/python3.10/dist-packages/ngboost/distns/lognormal.py:15: RuntimeWarning: invalid value encountered in multiply\n",
            "  uncens = E * self.dist.logpdf(T)\n",
            "/usr/local/lib/python3.10/dist-packages/ngboost/distns/lognormal.py:109: RuntimeWarning: overflow encountered in exp\n",
            "  self.dist = dist(s=self.scale, scale=np.exp(self.loc))\n",
            "/usr/local/lib/python3.10/dist-packages/ngboost/distns/lognormal.py:15: RuntimeWarning: invalid value encountered in multiply\n",
            "  uncens = E * self.dist.logpdf(T)\n",
            "/usr/local/lib/python3.10/dist-packages/ngboost/distns/lognormal.py:109: RuntimeWarning: overflow encountered in exp\n",
            "  self.dist = dist(s=self.scale, scale=np.exp(self.loc))\n",
            "/usr/local/lib/python3.10/dist-packages/ngboost/distns/lognormal.py:15: RuntimeWarning: invalid value encountered in multiply\n",
            "  uncens = E * self.dist.logpdf(T)\n",
            "/usr/local/lib/python3.10/dist-packages/ngboost/distns/lognormal.py:109: RuntimeWarning: overflow encountered in exp\n",
            "  self.dist = dist(s=self.scale, scale=np.exp(self.loc))\n",
            "/usr/local/lib/python3.10/dist-packages/ngboost/distns/lognormal.py:15: RuntimeWarning: invalid value encountered in multiply\n",
            "  uncens = E * self.dist.logpdf(T)\n",
            "/usr/local/lib/python3.10/dist-packages/ngboost/distns/lognormal.py:109: RuntimeWarning: overflow encountered in exp\n",
            "  self.dist = dist(s=self.scale, scale=np.exp(self.loc))\n",
            "/usr/local/lib/python3.10/dist-packages/ngboost/distns/lognormal.py:15: RuntimeWarning: invalid value encountered in multiply\n",
            "  uncens = E * self.dist.logpdf(T)\n",
            "/usr/local/lib/python3.10/dist-packages/ngboost/distns/lognormal.py:109: RuntimeWarning: overflow encountered in exp\n",
            "  self.dist = dist(s=self.scale, scale=np.exp(self.loc))\n",
            "/usr/local/lib/python3.10/dist-packages/ngboost/distns/lognormal.py:15: RuntimeWarning: invalid value encountered in multiply\n",
            "  uncens = E * self.dist.logpdf(T)\n",
            "/usr/local/lib/python3.10/dist-packages/ngboost/distns/lognormal.py:109: RuntimeWarning: overflow encountered in exp\n",
            "  self.dist = dist(s=self.scale, scale=np.exp(self.loc))\n",
            "/usr/local/lib/python3.10/dist-packages/ngboost/distns/lognormal.py:15: RuntimeWarning: invalid value encountered in multiply\n",
            "  uncens = E * self.dist.logpdf(T)\n",
            "/usr/local/lib/python3.10/dist-packages/ngboost/distns/lognormal.py:109: RuntimeWarning: overflow encountered in exp\n",
            "  self.dist = dist(s=self.scale, scale=np.exp(self.loc))\n",
            "/usr/local/lib/python3.10/dist-packages/ngboost/distns/lognormal.py:15: RuntimeWarning: invalid value encountered in multiply\n",
            "  uncens = E * self.dist.logpdf(T)\n",
            "/usr/local/lib/python3.10/dist-packages/ngboost/distns/lognormal.py:109: RuntimeWarning: overflow encountered in exp\n",
            "  self.dist = dist(s=self.scale, scale=np.exp(self.loc))\n",
            "/usr/local/lib/python3.10/dist-packages/ngboost/distns/lognormal.py:15: RuntimeWarning: invalid value encountered in multiply\n",
            "  uncens = E * self.dist.logpdf(T)\n",
            "/usr/local/lib/python3.10/dist-packages/ngboost/distns/lognormal.py:109: RuntimeWarning: overflow encountered in exp\n",
            "  self.dist = dist(s=self.scale, scale=np.exp(self.loc))\n",
            "/usr/local/lib/python3.10/dist-packages/ngboost/distns/lognormal.py:15: RuntimeWarning: invalid value encountered in multiply\n",
            "  uncens = E * self.dist.logpdf(T)\n",
            "/usr/local/lib/python3.10/dist-packages/ngboost/distns/lognormal.py:109: RuntimeWarning: overflow encountered in exp\n",
            "  self.dist = dist(s=self.scale, scale=np.exp(self.loc))\n",
            "/usr/local/lib/python3.10/dist-packages/ngboost/distns/lognormal.py:15: RuntimeWarning: invalid value encountered in multiply\n",
            "  uncens = E * self.dist.logpdf(T)\n",
            "/usr/local/lib/python3.10/dist-packages/ngboost/distns/lognormal.py:109: RuntimeWarning: overflow encountered in exp\n",
            "  self.dist = dist(s=self.scale, scale=np.exp(self.loc))\n",
            "/usr/local/lib/python3.10/dist-packages/ngboost/distns/lognormal.py:15: RuntimeWarning: invalid value encountered in multiply\n",
            "  uncens = E * self.dist.logpdf(T)\n",
            "/usr/local/lib/python3.10/dist-packages/ngboost/distns/lognormal.py:109: RuntimeWarning: overflow encountered in exp\n",
            "  self.dist = dist(s=self.scale, scale=np.exp(self.loc))\n",
            "/usr/local/lib/python3.10/dist-packages/ngboost/distns/lognormal.py:15: RuntimeWarning: invalid value encountered in multiply\n",
            "  uncens = E * self.dist.logpdf(T)\n",
            "/usr/local/lib/python3.10/dist-packages/ngboost/distns/lognormal.py:109: RuntimeWarning: overflow encountered in exp\n",
            "  self.dist = dist(s=self.scale, scale=np.exp(self.loc))\n",
            "/usr/local/lib/python3.10/dist-packages/ngboost/distns/lognormal.py:15: RuntimeWarning: invalid value encountered in multiply\n",
            "  uncens = E * self.dist.logpdf(T)\n",
            "/usr/local/lib/python3.10/dist-packages/ngboost/distns/lognormal.py:109: RuntimeWarning: overflow encountered in exp\n",
            "  self.dist = dist(s=self.scale, scale=np.exp(self.loc))\n",
            "/usr/local/lib/python3.10/dist-packages/ngboost/distns/lognormal.py:15: RuntimeWarning: invalid value encountered in multiply\n",
            "  uncens = E * self.dist.logpdf(T)\n",
            "/usr/local/lib/python3.10/dist-packages/ngboost/distns/lognormal.py:109: RuntimeWarning: overflow encountered in exp\n",
            "  self.dist = dist(s=self.scale, scale=np.exp(self.loc))\n",
            "/usr/local/lib/python3.10/dist-packages/ngboost/distns/lognormal.py:15: RuntimeWarning: invalid value encountered in multiply\n",
            "  uncens = E * self.dist.logpdf(T)\n",
            "/usr/local/lib/python3.10/dist-packages/ngboost/distns/lognormal.py:109: RuntimeWarning: overflow encountered in exp\n",
            "  self.dist = dist(s=self.scale, scale=np.exp(self.loc))\n",
            "/usr/local/lib/python3.10/dist-packages/ngboost/distns/lognormal.py:15: RuntimeWarning: invalid value encountered in multiply\n",
            "  uncens = E * self.dist.logpdf(T)\n",
            "/usr/local/lib/python3.10/dist-packages/ngboost/distns/lognormal.py:109: RuntimeWarning: overflow encountered in exp\n",
            "  self.dist = dist(s=self.scale, scale=np.exp(self.loc))\n",
            "/usr/local/lib/python3.10/dist-packages/ngboost/distns/lognormal.py:15: RuntimeWarning: invalid value encountered in multiply\n",
            "  uncens = E * self.dist.logpdf(T)\n",
            "/usr/local/lib/python3.10/dist-packages/ngboost/distns/lognormal.py:109: RuntimeWarning: overflow encountered in exp\n",
            "  self.dist = dist(s=self.scale, scale=np.exp(self.loc))\n",
            "/usr/local/lib/python3.10/dist-packages/ngboost/distns/lognormal.py:15: RuntimeWarning: invalid value encountered in multiply\n",
            "  uncens = E * self.dist.logpdf(T)\n",
            "/usr/local/lib/python3.10/dist-packages/ngboost/distns/lognormal.py:109: RuntimeWarning: overflow encountered in exp\n",
            "  self.dist = dist(s=self.scale, scale=np.exp(self.loc))\n",
            "/usr/local/lib/python3.10/dist-packages/ngboost/distns/lognormal.py:15: RuntimeWarning: invalid value encountered in multiply\n",
            "  uncens = E * self.dist.logpdf(T)\n",
            "/usr/local/lib/python3.10/dist-packages/ngboost/distns/lognormal.py:109: RuntimeWarning: overflow encountered in exp\n",
            "  self.dist = dist(s=self.scale, scale=np.exp(self.loc))\n",
            "/usr/local/lib/python3.10/dist-packages/ngboost/distns/lognormal.py:15: RuntimeWarning: invalid value encountered in multiply\n",
            "  uncens = E * self.dist.logpdf(T)\n",
            "/usr/local/lib/python3.10/dist-packages/ngboost/distns/lognormal.py:109: RuntimeWarning: overflow encountered in exp\n",
            "  self.dist = dist(s=self.scale, scale=np.exp(self.loc))\n",
            "/usr/local/lib/python3.10/dist-packages/ngboost/distns/lognormal.py:15: RuntimeWarning: invalid value encountered in multiply\n",
            "  uncens = E * self.dist.logpdf(T)\n",
            "/usr/local/lib/python3.10/dist-packages/ngboost/distns/lognormal.py:109: RuntimeWarning: overflow encountered in exp\n",
            "  self.dist = dist(s=self.scale, scale=np.exp(self.loc))\n",
            "/usr/local/lib/python3.10/dist-packages/ngboost/distns/lognormal.py:15: RuntimeWarning: invalid value encountered in multiply\n",
            "  uncens = E * self.dist.logpdf(T)\n",
            "/usr/local/lib/python3.10/dist-packages/ngboost/distns/lognormal.py:109: RuntimeWarning: overflow encountered in exp\n",
            "  self.dist = dist(s=self.scale, scale=np.exp(self.loc))\n",
            "/usr/local/lib/python3.10/dist-packages/ngboost/distns/lognormal.py:15: RuntimeWarning: invalid value encountered in multiply\n",
            "  uncens = E * self.dist.logpdf(T)\n",
            "/usr/local/lib/python3.10/dist-packages/ngboost/distns/lognormal.py:109: RuntimeWarning: overflow encountered in exp\n",
            "  self.dist = dist(s=self.scale, scale=np.exp(self.loc))\n",
            "/usr/local/lib/python3.10/dist-packages/ngboost/distns/lognormal.py:15: RuntimeWarning: invalid value encountered in multiply\n",
            "  uncens = E * self.dist.logpdf(T)\n",
            "/usr/local/lib/python3.10/dist-packages/ngboost/distns/lognormal.py:109: RuntimeWarning: overflow encountered in exp\n",
            "  self.dist = dist(s=self.scale, scale=np.exp(self.loc))\n",
            "/usr/local/lib/python3.10/dist-packages/ngboost/distns/lognormal.py:15: RuntimeWarning: invalid value encountered in multiply\n",
            "  uncens = E * self.dist.logpdf(T)\n",
            "/usr/local/lib/python3.10/dist-packages/ngboost/distns/lognormal.py:109: RuntimeWarning: overflow encountered in exp\n",
            "  self.dist = dist(s=self.scale, scale=np.exp(self.loc))\n",
            "/usr/local/lib/python3.10/dist-packages/ngboost/distns/lognormal.py:15: RuntimeWarning: invalid value encountered in multiply\n",
            "  uncens = E * self.dist.logpdf(T)\n",
            "/usr/local/lib/python3.10/dist-packages/ngboost/distns/lognormal.py:109: RuntimeWarning: overflow encountered in exp\n",
            "  self.dist = dist(s=self.scale, scale=np.exp(self.loc))\n",
            "/usr/local/lib/python3.10/dist-packages/ngboost/distns/lognormal.py:15: RuntimeWarning: invalid value encountered in multiply\n",
            "  uncens = E * self.dist.logpdf(T)\n",
            "/usr/local/lib/python3.10/dist-packages/ngboost/distns/lognormal.py:109: RuntimeWarning: overflow encountered in exp\n",
            "  self.dist = dist(s=self.scale, scale=np.exp(self.loc))\n",
            "/usr/local/lib/python3.10/dist-packages/ngboost/distns/lognormal.py:15: RuntimeWarning: invalid value encountered in multiply\n",
            "  uncens = E * self.dist.logpdf(T)\n",
            "/usr/local/lib/python3.10/dist-packages/ngboost/distns/lognormal.py:109: RuntimeWarning: overflow encountered in exp\n",
            "  self.dist = dist(s=self.scale, scale=np.exp(self.loc))\n",
            "/usr/local/lib/python3.10/dist-packages/ngboost/distns/lognormal.py:15: RuntimeWarning: invalid value encountered in multiply\n",
            "  uncens = E * self.dist.logpdf(T)\n",
            "/usr/local/lib/python3.10/dist-packages/scipy/stats/_continuous_distns.py:6010: RuntimeWarning: divide by zero encountered in divide\n",
            "  lambda x, s: -np.log(x)**2 / (2*s**2) - np.log(s*x*np.sqrt(2*np.pi)),\n",
            "/usr/local/lib/python3.10/dist-packages/ngboost/distns/lognormal.py:15: RuntimeWarning: invalid value encountered in multiply\n",
            "  uncens = E * self.dist.logpdf(T)\n",
            "/usr/local/lib/python3.10/dist-packages/ngboost/distns/lognormal.py:109: RuntimeWarning: overflow encountered in exp\n",
            "  self.dist = dist(s=self.scale, scale=np.exp(self.loc))\n",
            "/usr/local/lib/python3.10/dist-packages/ngboost/distns/lognormal.py:15: RuntimeWarning: invalid value encountered in multiply\n",
            "  uncens = E * self.dist.logpdf(T)\n"
          ]
        },
        {
          "output_type": "stream",
          "name": "stdout",
          "text": [
            "[iter 200] loss=0.0008 val_loss=0.0000 scale=128.0000 norm=1.0183\n"
          ]
        },
        {
          "output_type": "stream",
          "name": "stderr",
          "text": [
            "/usr/local/lib/python3.10/dist-packages/ngboost/distns/lognormal.py:109: RuntimeWarning: overflow encountered in exp\n",
            "  self.dist = dist(s=self.scale, scale=np.exp(self.loc))\n",
            "/usr/local/lib/python3.10/dist-packages/scipy/stats/_continuous_distns.py:6010: RuntimeWarning: divide by zero encountered in divide\n",
            "  lambda x, s: -np.log(x)**2 / (2*s**2) - np.log(s*x*np.sqrt(2*np.pi)),\n",
            "/usr/local/lib/python3.10/dist-packages/ngboost/distns/lognormal.py:15: RuntimeWarning: invalid value encountered in multiply\n",
            "  uncens = E * self.dist.logpdf(T)\n",
            "/usr/local/lib/python3.10/dist-packages/scipy/stats/_continuous_distns.py:6010: RuntimeWarning: divide by zero encountered in divide\n",
            "  lambda x, s: -np.log(x)**2 / (2*s**2) - np.log(s*x*np.sqrt(2*np.pi)),\n",
            "/usr/local/lib/python3.10/dist-packages/ngboost/distns/lognormal.py:15: RuntimeWarning: invalid value encountered in multiply\n",
            "  uncens = E * self.dist.logpdf(T)\n",
            "/usr/local/lib/python3.10/dist-packages/scipy/stats/_continuous_distns.py:6010: RuntimeWarning: divide by zero encountered in divide\n",
            "  lambda x, s: -np.log(x)**2 / (2*s**2) - np.log(s*x*np.sqrt(2*np.pi)),\n",
            "/usr/local/lib/python3.10/dist-packages/ngboost/distns/lognormal.py:15: RuntimeWarning: invalid value encountered in multiply\n",
            "  uncens = E * self.dist.logpdf(T)\n"
          ]
        },
        {
          "output_type": "stream",
          "name": "stdout",
          "text": [
            "[iter 300] loss=-0.0000 val_loss=0.0000 scale=512.0000 norm=0.0938\n",
            "== Quitting at iteration / GRAD 358\n"
          ]
        }
      ],
      "source": [
        "import numpy as np\n",
        "from ngboost import NGBSurvival\n",
        "from ngboost.distns import LogNormal\n",
        "\n",
        "#X, Y = load_boston(True)\n",
        "X_surv_train, X_surv_test, Y_surv_train, Y_surv_test = train_test_split(X, Y, test_size=0.2)\n",
        "\n",
        "# introduce administrative censoring to simulate survival data\n",
        "T_surv_train = np.minimum(Y_surv_train, 30) # time of an event or censoring\n",
        "E_surv_train = Y_surv_train > 30 # 1 if T[i] is the time of an event, 0 if it's a time of censoring\n",
        "\n",
        "ngb = NGBSurvival(Dist=LogNormal).fit(X_surv_train, T_surv_train, E_surv_train)"
      ]
    },
    {
      "cell_type": "markdown",
      "metadata": {
        "id": "5rvKBR02YGB3"
      },
      "source": [
        "The scores currently implemented assume that the censoring is independent of survival, conditional on the observed predictors."
      ]
    },
    {
      "cell_type": "markdown",
      "metadata": {
        "id": "R0KnXB22YGB3"
      },
      "source": [
        "### Classification Distributions"
      ]
    },
    {
      "cell_type": "markdown",
      "metadata": {
        "id": "dv67RKIFYGB3"
      },
      "source": [
        "| Distribution | Parameters | Implemented Scores | Reference |\n",
        "| --- | --- | --- | --- |\n",
        "| `k_categorical(K)` | `p0`, `p1`... `p{K-1}` | `LogScore` | [Categorical distribution on Wikipedia](https://en.wikipedia.org/wiki/Categorical_distribution) |\n",
        "| `Bernoulli` | `p` | `LogScore` | [Bernoulli distribution on Wikipedia](https://en.wikipedia.org/wiki/Bernoulli_distribution) |"
      ]
    },
    {
      "cell_type": "markdown",
      "metadata": {
        "id": "2oEgUThdYGB3"
      },
      "source": [
        "Classification distributions can be used through the `NGBClassifier()` constructor by passing the appropriate class as the `Dist` argument. `Bernoulli` is the default and is equivalent to `k_categorical(2)`."
      ]
    },
    {
      "cell_type": "code",
      "execution_count": 76,
      "metadata": {
        "id": "o__ZxDBFYGB3"
      },
      "outputs": [],
      "source": [
        "from ngboost import NGBClassifier\n",
        "from ngboost.distns import k_categorical, Bernoulli\n",
        "from sklearn.datasets import load_breast_cancer\n",
        "\n",
        "#X, y = load_breast_cancer(True)\n",
        "data = load_breast_cancer()\n",
        "X, y = data.data, data.target\n",
        "y[0:15] = 2 # artificially make this a 3-class problem instead of a 2-class problem\n",
        "X_cls_train, X_cls_test, Y_cls_train, Y_cls_test  = train_test_split(X, y, test_size=0.2)\n",
        "\n",
        "ngb_cat = NGBClassifier(Dist=k_categorical(3), verbose=False) # tell ngboost that there are 3 possible outcomes\n",
        "_ = ngb_cat.fit(X_cls_train, Y_cls_train) # Y should have only 3 values: {0,1,2}"
      ]
    },
    {
      "cell_type": "markdown",
      "metadata": {
        "id": "sdD9ivqlYGB4"
      },
      "source": [
        "When using NGBoost for classification, the outcome vector `Y` must consist only of integers from 0 to K-1, where K is the total number of classes. This is consistent with the classification standards in sklearn."
      ]
    },
    {
      "cell_type": "markdown",
      "metadata": {
        "id": "7FJRaHbGYGB4"
      },
      "source": [
        "`NGBClassifier` objects have three prediction methods: `predict()` returns the most likely class, `predict_proba()` returns the class probabilities, and `pred_dist()` returns the distribution object."
      ]
    },
    {
      "cell_type": "code",
      "execution_count": 77,
      "metadata": {
        "id": "dajpHilnYGB4",
        "outputId": "c7246b6a-1523-4ac0-8246-6b052d9b9dee",
        "colab": {
          "base_uri": "https://localhost:8080/"
        }
      },
      "outputs": [
        {
          "output_type": "execute_result",
          "data": {
            "text/plain": [
              "array([1, 0, 1, 1, 0])"
            ]
          },
          "metadata": {},
          "execution_count": 77
        }
      ],
      "source": [
        "ngb_cat.predict(X_cls_test)[0:5]"
      ]
    },
    {
      "cell_type": "code",
      "execution_count": 78,
      "metadata": {
        "id": "a3Gm328uYGB4",
        "outputId": "534fcf2e-5c65-4114-a6f2-b02b46e81864",
        "colab": {
          "base_uri": "https://localhost:8080/"
        }
      },
      "outputs": [
        {
          "output_type": "execute_result",
          "data": {
            "text/plain": [
              "array([[6.40659633e-03, 9.93236466e-01, 3.56937363e-04],\n",
              "       [9.89288047e-01, 1.01615846e-02, 5.50368526e-04],\n",
              "       [6.40659633e-03, 9.93236466e-01, 3.56937363e-04],\n",
              "       [6.64372958e-03, 9.93005164e-01, 3.51106647e-04],\n",
              "       [9.47529417e-01, 5.19434456e-02, 5.27137036e-04]])"
            ]
          },
          "metadata": {},
          "execution_count": 78
        }
      ],
      "source": [
        "ngb_cat.predict_proba(X_cls_test)[0:5]"
      ]
    },
    {
      "cell_type": "code",
      "execution_count": 79,
      "metadata": {
        "id": "RILuySxqYGB4",
        "outputId": "3cf5103b-a3ae-41e5-95c6-6d22e9a0d530",
        "colab": {
          "base_uri": "https://localhost:8080/"
        }
      },
      "outputs": [
        {
          "output_type": "execute_result",
          "data": {
            "text/plain": [
              "{'p0': array([0.0064066 , 0.98928805, 0.0064066 , 0.00664373, 0.94752942]),\n",
              " 'p1': array([0.99323647, 0.01016158, 0.99323647, 0.99300516, 0.05194345]),\n",
              " 'p2': array([0.00035694, 0.00055037, 0.00035694, 0.00035111, 0.00052714])}"
            ]
          },
          "metadata": {},
          "execution_count": 79
        }
      ],
      "source": [
        "ngb_cat.pred_dist(X_cls_test)[0:5].params"
      ]
    },
    {
      "cell_type": "markdown",
      "metadata": {
        "id": "jgVVFFOQYGB4"
      },
      "source": [
        "## Scores"
      ]
    },
    {
      "cell_type": "markdown",
      "metadata": {
        "id": "LoEiDd5bYGB4"
      },
      "source": [
        "NGBoost supports the log score (`LogScore`, also known as negative log-likelihood) and CRPS (`CRPScore`), although each score may not be implemented for each distribution. The score is specified by the `Score` argument in the constructor."
      ]
    },
    {
      "cell_type": "code",
      "execution_count": 80,
      "metadata": {
        "tags": [
          "hide_output"
        ],
        "id": "KCb4GcT3YGB4",
        "outputId": "59e331a1-e80b-4b1f-c129-721c5a199721",
        "colab": {
          "base_uri": "https://localhost:8080/"
        }
      },
      "outputs": [
        {
          "output_type": "stream",
          "name": "stdout",
          "text": [
            "[5.82349492 5.82665949 5.82349492 ... 5.82469643 5.82535707 5.82535707]\n",
            "Mean Squared Error: 0.7159989168445375\n",
            "[1 0 1 1 0 1 1 0 0 1 1 0 0 1 1 1 1 1 1 1 1 0 1 1 0 1 0 1 1 1 1 0 0 1 1 1 1\n",
            " 0 0 1 1 0 1 1 0 0 1 1 1 1 1 1 0 1 1 1 0 1 0 1 0 0 0 1 1 1 0 1 0 0 1 0 0 1\n",
            " 1 1 0 1 1 1 1 1 1 1 0 0 0 1 1 0 0 1 0 1 0 0 1 1 1 1 1 0 1 1 0 0 1 1 1 0 1\n",
            " 1 0 0]\n",
            "Accuracy: 0.9210526315789473\n"
          ]
        }
      ],
      "source": [
        "from ngboost.scores import LogScore, CRPScore\n",
        "from sklearn.metrics import accuracy_score\n",
        "\n",
        "#NGBRegressor(Dist=Exponential, Score=CRPScore, verbose=False).fit(X_reg_train, Y_reg_train)\n",
        "#NGBClassifier(Dist=k_categorical(3), Score=LogScore, verbose=False).fit(X_cls_train, Y_cls_train)\n",
        "\n",
        "reg_model = NGBRegressor(Dist=Exponential, Score=CRPScore, verbose=False).fit(X_reg_train, Y_reg_train)\n",
        "cls_model = NGBClassifier(Dist=k_categorical(3), Score=LogScore, verbose=False).fit(X_cls_train, Y_cls_train)\n",
        "\n",
        "#For Regression model - Prediction and MSE for accuracy\n",
        "reg_predictions= reg_model.predict(X_reg_test)\n",
        "print(reg_predictions)\n",
        "\n",
        "mse = mean_squared_error(Y_reg_test, reg_predictions)\n",
        "print(f'Mean Squared Error: {mse}')\n",
        "\n",
        "\n",
        "#For Classifier model - Prediction and accuracy\n",
        "cls_predictions = cls_model.predict(X_cls_test)\n",
        "print(cls_predictions)\n",
        "\n",
        "predicted_labels = np.round(cls_predictions).astype(int)\n",
        "accuracy = accuracy_score(Y_cls_test, predicted_labels)\n",
        "print(f'Accuracy: {accuracy}')\n"
      ]
    },
    {
      "cell_type": "markdown",
      "metadata": {
        "id": "TuWNTQVIYGB5"
      },
      "source": [
        "## Base Learners"
      ]
    },
    {
      "cell_type": "markdown",
      "metadata": {
        "id": "hvGbzOC7YGB5"
      },
      "source": [
        "NGBoost can be used with any sklearn regressor as the base learner, specified with the `Base` argument. The default is a depth-3 regression tree."
      ]
    },
    {
      "cell_type": "code",
      "execution_count": 81,
      "metadata": {
        "tags": [
          "hide_output"
        ],
        "id": "-6L6fzDPYGB5",
        "outputId": "f9a9f046-d5de-4499-fbd9-b02baf71774f",
        "colab": {
          "base_uri": "https://localhost:8080/",
          "height": 118
        }
      },
      "outputs": [
        {
          "output_type": "execute_result",
          "data": {
            "text/plain": [
              "NGBSurvival(Base=DecisionTreeRegressor(criterion='friedman_mse', max_depth=5),\n",
              "            Dist=<class 'ngboost.distns.utils.SurvivalDistnClass.<locals>.SurvivalDistn'>,\n",
              "            Score=<class 'ngboost.scores.CRPScore'>,\n",
              "            random_state=RandomState(MT19937) at 0x79DDFA98F940, verbose=False)"
            ],
            "text/html": [
              "<style>#sk-container-id-10 {color: black;background-color: white;}#sk-container-id-10 pre{padding: 0;}#sk-container-id-10 div.sk-toggleable {background-color: white;}#sk-container-id-10 label.sk-toggleable__label {cursor: pointer;display: block;width: 100%;margin-bottom: 0;padding: 0.3em;box-sizing: border-box;text-align: center;}#sk-container-id-10 label.sk-toggleable__label-arrow:before {content: \"▸\";float: left;margin-right: 0.25em;color: #696969;}#sk-container-id-10 label.sk-toggleable__label-arrow:hover:before {color: black;}#sk-container-id-10 div.sk-estimator:hover label.sk-toggleable__label-arrow:before {color: black;}#sk-container-id-10 div.sk-toggleable__content {max-height: 0;max-width: 0;overflow: hidden;text-align: left;background-color: #f0f8ff;}#sk-container-id-10 div.sk-toggleable__content pre {margin: 0.2em;color: black;border-radius: 0.25em;background-color: #f0f8ff;}#sk-container-id-10 input.sk-toggleable__control:checked~div.sk-toggleable__content {max-height: 200px;max-width: 100%;overflow: auto;}#sk-container-id-10 input.sk-toggleable__control:checked~label.sk-toggleable__label-arrow:before {content: \"▾\";}#sk-container-id-10 div.sk-estimator input.sk-toggleable__control:checked~label.sk-toggleable__label {background-color: #d4ebff;}#sk-container-id-10 div.sk-label input.sk-toggleable__control:checked~label.sk-toggleable__label {background-color: #d4ebff;}#sk-container-id-10 input.sk-hidden--visually {border: 0;clip: rect(1px 1px 1px 1px);clip: rect(1px, 1px, 1px, 1px);height: 1px;margin: -1px;overflow: hidden;padding: 0;position: absolute;width: 1px;}#sk-container-id-10 div.sk-estimator {font-family: monospace;background-color: #f0f8ff;border: 1px dotted black;border-radius: 0.25em;box-sizing: border-box;margin-bottom: 0.5em;}#sk-container-id-10 div.sk-estimator:hover {background-color: #d4ebff;}#sk-container-id-10 div.sk-parallel-item::after {content: \"\";width: 100%;border-bottom: 1px solid gray;flex-grow: 1;}#sk-container-id-10 div.sk-label:hover label.sk-toggleable__label {background-color: #d4ebff;}#sk-container-id-10 div.sk-serial::before {content: \"\";position: absolute;border-left: 1px solid gray;box-sizing: border-box;top: 0;bottom: 0;left: 50%;z-index: 0;}#sk-container-id-10 div.sk-serial {display: flex;flex-direction: column;align-items: center;background-color: white;padding-right: 0.2em;padding-left: 0.2em;position: relative;}#sk-container-id-10 div.sk-item {position: relative;z-index: 1;}#sk-container-id-10 div.sk-parallel {display: flex;align-items: stretch;justify-content: center;background-color: white;position: relative;}#sk-container-id-10 div.sk-item::before, #sk-container-id-10 div.sk-parallel-item::before {content: \"\";position: absolute;border-left: 1px solid gray;box-sizing: border-box;top: 0;bottom: 0;left: 50%;z-index: -1;}#sk-container-id-10 div.sk-parallel-item {display: flex;flex-direction: column;z-index: 1;position: relative;background-color: white;}#sk-container-id-10 div.sk-parallel-item:first-child::after {align-self: flex-end;width: 50%;}#sk-container-id-10 div.sk-parallel-item:last-child::after {align-self: flex-start;width: 50%;}#sk-container-id-10 div.sk-parallel-item:only-child::after {width: 0;}#sk-container-id-10 div.sk-dashed-wrapped {border: 1px dashed gray;margin: 0 0.4em 0.5em 0.4em;box-sizing: border-box;padding-bottom: 0.4em;background-color: white;}#sk-container-id-10 div.sk-label label {font-family: monospace;font-weight: bold;display: inline-block;line-height: 1.2em;}#sk-container-id-10 div.sk-label-container {text-align: center;}#sk-container-id-10 div.sk-container {/* jupyter's `normalize.less` sets `[hidden] { display: none; }` but bootstrap.min.css set `[hidden] { display: none !important; }` so we also need the `!important` here to be able to override the default hidden behavior on the sphinx rendered scikit-learn.org. See: https://github.com/scikit-learn/scikit-learn/issues/21755 */display: inline-block !important;position: relative;}#sk-container-id-10 div.sk-text-repr-fallback {display: none;}</style><div id=\"sk-container-id-10\" class=\"sk-top-container\"><div class=\"sk-text-repr-fallback\"><pre>NGBSurvival(Base=DecisionTreeRegressor(criterion=&#x27;friedman_mse&#x27;, max_depth=5),\n",
              "            Dist=&lt;class &#x27;ngboost.distns.utils.SurvivalDistnClass.&lt;locals&gt;.SurvivalDistn&#x27;&gt;,\n",
              "            Score=&lt;class &#x27;ngboost.scores.CRPScore&#x27;&gt;,\n",
              "            random_state=RandomState(MT19937) at 0x79DDFA98F940, verbose=False)</pre><b>In a Jupyter environment, please rerun this cell to show the HTML representation or trust the notebook. <br />On GitHub, the HTML representation is unable to render, please try loading this page with nbviewer.org.</b></div><div class=\"sk-container\" hidden><div class=\"sk-item sk-dashed-wrapped\"><div class=\"sk-label-container\"><div class=\"sk-label sk-toggleable\"><input class=\"sk-toggleable__control sk-hidden--visually\" id=\"sk-estimator-id-28\" type=\"checkbox\" ><label for=\"sk-estimator-id-28\" class=\"sk-toggleable__label sk-toggleable__label-arrow\">NGBSurvival</label><div class=\"sk-toggleable__content\"><pre>NGBSurvival(Base=DecisionTreeRegressor(criterion=&#x27;friedman_mse&#x27;, max_depth=5),\n",
              "            Dist=&lt;class &#x27;ngboost.distns.utils.SurvivalDistnClass.&lt;locals&gt;.SurvivalDistn&#x27;&gt;,\n",
              "            Score=&lt;class &#x27;ngboost.scores.CRPScore&#x27;&gt;,\n",
              "            random_state=RandomState(MT19937) at 0x79DDFA98F940, verbose=False)</pre></div></div></div><div class=\"sk-parallel\"><div class=\"sk-parallel-item\"><div class=\"sk-item\"><div class=\"sk-label-container\"><div class=\"sk-label sk-toggleable\"><input class=\"sk-toggleable__control sk-hidden--visually\" id=\"sk-estimator-id-29\" type=\"checkbox\" ><label for=\"sk-estimator-id-29\" class=\"sk-toggleable__label sk-toggleable__label-arrow\">Base: DecisionTreeRegressor</label><div class=\"sk-toggleable__content\"><pre>DecisionTreeRegressor(criterion=&#x27;friedman_mse&#x27;, max_depth=5)</pre></div></div></div><div class=\"sk-serial\"><div class=\"sk-item\"><div class=\"sk-estimator sk-toggleable\"><input class=\"sk-toggleable__control sk-hidden--visually\" id=\"sk-estimator-id-30\" type=\"checkbox\" ><label for=\"sk-estimator-id-30\" class=\"sk-toggleable__label sk-toggleable__label-arrow\">DecisionTreeRegressor</label><div class=\"sk-toggleable__content\"><pre>DecisionTreeRegressor(criterion=&#x27;friedman_mse&#x27;, max_depth=5)</pre></div></div></div></div></div></div></div></div></div></div>"
            ]
          },
          "metadata": {},
          "execution_count": 81
        }
      ],
      "source": [
        "from sklearn.tree import DecisionTreeRegressor\n",
        "\n",
        "learner = DecisionTreeRegressor(criterion='friedman_mse', max_depth=5)\n",
        "\n",
        "NGBSurvival(Dist=Exponential, Score=CRPScore, Base=learner, verbose=False).fit(X_surv_train, T_surv_train, E_surv_train)"
      ]
    },
    {
      "cell_type": "markdown",
      "metadata": {
        "id": "KI-jzSz8YGB5"
      },
      "source": [
        "## Other Arguments"
      ]
    },
    {
      "cell_type": "markdown",
      "metadata": {
        "id": "RYJc7c4gYGB5"
      },
      "source": [
        "The learning rate, number of estimators, minibatch fraction, and column subsampling are also easily adjusted:"
      ]
    },
    {
      "cell_type": "code",
      "execution_count": 82,
      "metadata": {
        "tags": [
          "hide_output"
        ],
        "id": "3r-naJj-YGB5",
        "outputId": "1aaea9e1-51ab-4ef0-e7b3-6be8217aeb85",
        "colab": {
          "base_uri": "https://localhost:8080/",
          "height": 135
        }
      },
      "outputs": [
        {
          "output_type": "stream",
          "name": "stdout",
          "text": [
            "[iter 0] loss=1.2810 val_loss=0.0000 scale=1.0000 norm=0.9108\n"
          ]
        },
        {
          "output_type": "execute_result",
          "data": {
            "text/plain": [
              "NGBRegressor(col_sample=0.5, minibatch_frac=0.5, n_estimators=100,\n",
              "             random_state=RandomState(MT19937) at 0x79DDFA98F940)"
            ],
            "text/html": [
              "<style>#sk-container-id-11 {color: black;background-color: white;}#sk-container-id-11 pre{padding: 0;}#sk-container-id-11 div.sk-toggleable {background-color: white;}#sk-container-id-11 label.sk-toggleable__label {cursor: pointer;display: block;width: 100%;margin-bottom: 0;padding: 0.3em;box-sizing: border-box;text-align: center;}#sk-container-id-11 label.sk-toggleable__label-arrow:before {content: \"▸\";float: left;margin-right: 0.25em;color: #696969;}#sk-container-id-11 label.sk-toggleable__label-arrow:hover:before {color: black;}#sk-container-id-11 div.sk-estimator:hover label.sk-toggleable__label-arrow:before {color: black;}#sk-container-id-11 div.sk-toggleable__content {max-height: 0;max-width: 0;overflow: hidden;text-align: left;background-color: #f0f8ff;}#sk-container-id-11 div.sk-toggleable__content pre {margin: 0.2em;color: black;border-radius: 0.25em;background-color: #f0f8ff;}#sk-container-id-11 input.sk-toggleable__control:checked~div.sk-toggleable__content {max-height: 200px;max-width: 100%;overflow: auto;}#sk-container-id-11 input.sk-toggleable__control:checked~label.sk-toggleable__label-arrow:before {content: \"▾\";}#sk-container-id-11 div.sk-estimator input.sk-toggleable__control:checked~label.sk-toggleable__label {background-color: #d4ebff;}#sk-container-id-11 div.sk-label input.sk-toggleable__control:checked~label.sk-toggleable__label {background-color: #d4ebff;}#sk-container-id-11 input.sk-hidden--visually {border: 0;clip: rect(1px 1px 1px 1px);clip: rect(1px, 1px, 1px, 1px);height: 1px;margin: -1px;overflow: hidden;padding: 0;position: absolute;width: 1px;}#sk-container-id-11 div.sk-estimator {font-family: monospace;background-color: #f0f8ff;border: 1px dotted black;border-radius: 0.25em;box-sizing: border-box;margin-bottom: 0.5em;}#sk-container-id-11 div.sk-estimator:hover {background-color: #d4ebff;}#sk-container-id-11 div.sk-parallel-item::after {content: \"\";width: 100%;border-bottom: 1px solid gray;flex-grow: 1;}#sk-container-id-11 div.sk-label:hover label.sk-toggleable__label {background-color: #d4ebff;}#sk-container-id-11 div.sk-serial::before {content: \"\";position: absolute;border-left: 1px solid gray;box-sizing: border-box;top: 0;bottom: 0;left: 50%;z-index: 0;}#sk-container-id-11 div.sk-serial {display: flex;flex-direction: column;align-items: center;background-color: white;padding-right: 0.2em;padding-left: 0.2em;position: relative;}#sk-container-id-11 div.sk-item {position: relative;z-index: 1;}#sk-container-id-11 div.sk-parallel {display: flex;align-items: stretch;justify-content: center;background-color: white;position: relative;}#sk-container-id-11 div.sk-item::before, #sk-container-id-11 div.sk-parallel-item::before {content: \"\";position: absolute;border-left: 1px solid gray;box-sizing: border-box;top: 0;bottom: 0;left: 50%;z-index: -1;}#sk-container-id-11 div.sk-parallel-item {display: flex;flex-direction: column;z-index: 1;position: relative;background-color: white;}#sk-container-id-11 div.sk-parallel-item:first-child::after {align-self: flex-end;width: 50%;}#sk-container-id-11 div.sk-parallel-item:last-child::after {align-self: flex-start;width: 50%;}#sk-container-id-11 div.sk-parallel-item:only-child::after {width: 0;}#sk-container-id-11 div.sk-dashed-wrapped {border: 1px dashed gray;margin: 0 0.4em 0.5em 0.4em;box-sizing: border-box;padding-bottom: 0.4em;background-color: white;}#sk-container-id-11 div.sk-label label {font-family: monospace;font-weight: bold;display: inline-block;line-height: 1.2em;}#sk-container-id-11 div.sk-label-container {text-align: center;}#sk-container-id-11 div.sk-container {/* jupyter's `normalize.less` sets `[hidden] { display: none; }` but bootstrap.min.css set `[hidden] { display: none !important; }` so we also need the `!important` here to be able to override the default hidden behavior on the sphinx rendered scikit-learn.org. See: https://github.com/scikit-learn/scikit-learn/issues/21755 */display: inline-block !important;position: relative;}#sk-container-id-11 div.sk-text-repr-fallback {display: none;}</style><div id=\"sk-container-id-11\" class=\"sk-top-container\"><div class=\"sk-text-repr-fallback\"><pre>NGBRegressor(col_sample=0.5, minibatch_frac=0.5, n_estimators=100,\n",
              "             random_state=RandomState(MT19937) at 0x79DDFA98F940)</pre><b>In a Jupyter environment, please rerun this cell to show the HTML representation or trust the notebook. <br />On GitHub, the HTML representation is unable to render, please try loading this page with nbviewer.org.</b></div><div class=\"sk-container\" hidden><div class=\"sk-item sk-dashed-wrapped\"><div class=\"sk-label-container\"><div class=\"sk-label sk-toggleable\"><input class=\"sk-toggleable__control sk-hidden--visually\" id=\"sk-estimator-id-31\" type=\"checkbox\" ><label for=\"sk-estimator-id-31\" class=\"sk-toggleable__label sk-toggleable__label-arrow\">NGBRegressor</label><div class=\"sk-toggleable__content\"><pre>NGBRegressor(col_sample=0.5, minibatch_frac=0.5, n_estimators=100,\n",
              "             random_state=RandomState(MT19937) at 0x79DDFA98F940)</pre></div></div></div><div class=\"sk-parallel\"><div class=\"sk-parallel-item\"><div class=\"sk-item\"><div class=\"sk-label-container\"><div class=\"sk-label sk-toggleable\"><input class=\"sk-toggleable__control sk-hidden--visually\" id=\"sk-estimator-id-32\" type=\"checkbox\" ><label for=\"sk-estimator-id-32\" class=\"sk-toggleable__label sk-toggleable__label-arrow\">Base: DecisionTreeRegressor</label><div class=\"sk-toggleable__content\"><pre>DecisionTreeRegressor(criterion=&#x27;friedman_mse&#x27;, max_depth=3)</pre></div></div></div><div class=\"sk-serial\"><div class=\"sk-item\"><div class=\"sk-estimator sk-toggleable\"><input class=\"sk-toggleable__control sk-hidden--visually\" id=\"sk-estimator-id-33\" type=\"checkbox\" ><label for=\"sk-estimator-id-33\" class=\"sk-toggleable__label sk-toggleable__label-arrow\">DecisionTreeRegressor</label><div class=\"sk-toggleable__content\"><pre>DecisionTreeRegressor(criterion=&#x27;friedman_mse&#x27;, max_depth=3)</pre></div></div></div></div></div></div></div></div></div></div>"
            ]
          },
          "metadata": {},
          "execution_count": 82
        }
      ],
      "source": [
        "ngb = NGBRegressor(n_estimators=100, learning_rate=0.01,\n",
        "             minibatch_frac=0.5, col_sample=0.5)\n",
        "ngb.fit(X_reg_train, Y_reg_train)"
      ]
    },
    {
      "cell_type": "markdown",
      "metadata": {
        "id": "JzIKH4epYGB5"
      },
      "source": [
        "Sample weights (for training) are set using the `sample_weight` argument to `fit`."
      ]
    },
    {
      "cell_type": "code",
      "execution_count": 83,
      "metadata": {
        "tags": [
          "hide_output"
        ],
        "id": "WOudBxY5YGB6",
        "outputId": "1bf7aa15-8f71-4ed4-a0dc-b8c172f5a07b",
        "colab": {
          "base_uri": "https://localhost:8080/",
          "height": 135
        }
      },
      "outputs": [
        {
          "output_type": "stream",
          "name": "stdout",
          "text": [
            "[iter 0] loss=1.2772 val_loss=0.0000 scale=1.0000 norm=0.9210\n"
          ]
        },
        {
          "output_type": "execute_result",
          "data": {
            "text/plain": [
              "NGBRegressor(col_sample=0.5, minibatch_frac=0.5, n_estimators=100,\n",
              "             random_state=RandomState(MT19937) at 0x79DDFA98F940)"
            ],
            "text/html": [
              "<style>#sk-container-id-12 {color: black;background-color: white;}#sk-container-id-12 pre{padding: 0;}#sk-container-id-12 div.sk-toggleable {background-color: white;}#sk-container-id-12 label.sk-toggleable__label {cursor: pointer;display: block;width: 100%;margin-bottom: 0;padding: 0.3em;box-sizing: border-box;text-align: center;}#sk-container-id-12 label.sk-toggleable__label-arrow:before {content: \"▸\";float: left;margin-right: 0.25em;color: #696969;}#sk-container-id-12 label.sk-toggleable__label-arrow:hover:before {color: black;}#sk-container-id-12 div.sk-estimator:hover label.sk-toggleable__label-arrow:before {color: black;}#sk-container-id-12 div.sk-toggleable__content {max-height: 0;max-width: 0;overflow: hidden;text-align: left;background-color: #f0f8ff;}#sk-container-id-12 div.sk-toggleable__content pre {margin: 0.2em;color: black;border-radius: 0.25em;background-color: #f0f8ff;}#sk-container-id-12 input.sk-toggleable__control:checked~div.sk-toggleable__content {max-height: 200px;max-width: 100%;overflow: auto;}#sk-container-id-12 input.sk-toggleable__control:checked~label.sk-toggleable__label-arrow:before {content: \"▾\";}#sk-container-id-12 div.sk-estimator input.sk-toggleable__control:checked~label.sk-toggleable__label {background-color: #d4ebff;}#sk-container-id-12 div.sk-label input.sk-toggleable__control:checked~label.sk-toggleable__label {background-color: #d4ebff;}#sk-container-id-12 input.sk-hidden--visually {border: 0;clip: rect(1px 1px 1px 1px);clip: rect(1px, 1px, 1px, 1px);height: 1px;margin: -1px;overflow: hidden;padding: 0;position: absolute;width: 1px;}#sk-container-id-12 div.sk-estimator {font-family: monospace;background-color: #f0f8ff;border: 1px dotted black;border-radius: 0.25em;box-sizing: border-box;margin-bottom: 0.5em;}#sk-container-id-12 div.sk-estimator:hover {background-color: #d4ebff;}#sk-container-id-12 div.sk-parallel-item::after {content: \"\";width: 100%;border-bottom: 1px solid gray;flex-grow: 1;}#sk-container-id-12 div.sk-label:hover label.sk-toggleable__label {background-color: #d4ebff;}#sk-container-id-12 div.sk-serial::before {content: \"\";position: absolute;border-left: 1px solid gray;box-sizing: border-box;top: 0;bottom: 0;left: 50%;z-index: 0;}#sk-container-id-12 div.sk-serial {display: flex;flex-direction: column;align-items: center;background-color: white;padding-right: 0.2em;padding-left: 0.2em;position: relative;}#sk-container-id-12 div.sk-item {position: relative;z-index: 1;}#sk-container-id-12 div.sk-parallel {display: flex;align-items: stretch;justify-content: center;background-color: white;position: relative;}#sk-container-id-12 div.sk-item::before, #sk-container-id-12 div.sk-parallel-item::before {content: \"\";position: absolute;border-left: 1px solid gray;box-sizing: border-box;top: 0;bottom: 0;left: 50%;z-index: -1;}#sk-container-id-12 div.sk-parallel-item {display: flex;flex-direction: column;z-index: 1;position: relative;background-color: white;}#sk-container-id-12 div.sk-parallel-item:first-child::after {align-self: flex-end;width: 50%;}#sk-container-id-12 div.sk-parallel-item:last-child::after {align-self: flex-start;width: 50%;}#sk-container-id-12 div.sk-parallel-item:only-child::after {width: 0;}#sk-container-id-12 div.sk-dashed-wrapped {border: 1px dashed gray;margin: 0 0.4em 0.5em 0.4em;box-sizing: border-box;padding-bottom: 0.4em;background-color: white;}#sk-container-id-12 div.sk-label label {font-family: monospace;font-weight: bold;display: inline-block;line-height: 1.2em;}#sk-container-id-12 div.sk-label-container {text-align: center;}#sk-container-id-12 div.sk-container {/* jupyter's `normalize.less` sets `[hidden] { display: none; }` but bootstrap.min.css set `[hidden] { display: none !important; }` so we also need the `!important` here to be able to override the default hidden behavior on the sphinx rendered scikit-learn.org. See: https://github.com/scikit-learn/scikit-learn/issues/21755 */display: inline-block !important;position: relative;}#sk-container-id-12 div.sk-text-repr-fallback {display: none;}</style><div id=\"sk-container-id-12\" class=\"sk-top-container\"><div class=\"sk-text-repr-fallback\"><pre>NGBRegressor(col_sample=0.5, minibatch_frac=0.5, n_estimators=100,\n",
              "             random_state=RandomState(MT19937) at 0x79DDFA98F940)</pre><b>In a Jupyter environment, please rerun this cell to show the HTML representation or trust the notebook. <br />On GitHub, the HTML representation is unable to render, please try loading this page with nbviewer.org.</b></div><div class=\"sk-container\" hidden><div class=\"sk-item sk-dashed-wrapped\"><div class=\"sk-label-container\"><div class=\"sk-label sk-toggleable\"><input class=\"sk-toggleable__control sk-hidden--visually\" id=\"sk-estimator-id-34\" type=\"checkbox\" ><label for=\"sk-estimator-id-34\" class=\"sk-toggleable__label sk-toggleable__label-arrow\">NGBRegressor</label><div class=\"sk-toggleable__content\"><pre>NGBRegressor(col_sample=0.5, minibatch_frac=0.5, n_estimators=100,\n",
              "             random_state=RandomState(MT19937) at 0x79DDFA98F940)</pre></div></div></div><div class=\"sk-parallel\"><div class=\"sk-parallel-item\"><div class=\"sk-item\"><div class=\"sk-label-container\"><div class=\"sk-label sk-toggleable\"><input class=\"sk-toggleable__control sk-hidden--visually\" id=\"sk-estimator-id-35\" type=\"checkbox\" ><label for=\"sk-estimator-id-35\" class=\"sk-toggleable__label sk-toggleable__label-arrow\">Base: DecisionTreeRegressor</label><div class=\"sk-toggleable__content\"><pre>DecisionTreeRegressor(criterion=&#x27;friedman_mse&#x27;, max_depth=3)</pre></div></div></div><div class=\"sk-serial\"><div class=\"sk-item\"><div class=\"sk-estimator sk-toggleable\"><input class=\"sk-toggleable__control sk-hidden--visually\" id=\"sk-estimator-id-36\" type=\"checkbox\" ><label for=\"sk-estimator-id-36\" class=\"sk-toggleable__label sk-toggleable__label-arrow\">DecisionTreeRegressor</label><div class=\"sk-toggleable__content\"><pre>DecisionTreeRegressor(criterion=&#x27;friedman_mse&#x27;, max_depth=3)</pre></div></div></div></div></div></div></div></div></div></div>"
            ]
          },
          "metadata": {},
          "execution_count": 83
        }
      ],
      "source": [
        "ngb = NGBRegressor(n_estimators=100, learning_rate=0.01,\n",
        "             minibatch_frac=0.5, col_sample=0.5)\n",
        "weights = np.random.random(Y_reg_train.shape)\n",
        "ngb.fit(X_reg_train, Y_reg_train, sample_weight=weights)"
      ]
    }
  ],
  "metadata": {
    "kernelspec": {
      "display_name": "Python 3",
      "language": "python",
      "name": "python3"
    },
    "language_info": {
      "codemirror_mode": {
        "name": "ipython",
        "version": 3
      },
      "file_extension": ".py",
      "mimetype": "text/x-python",
      "name": "python",
      "nbconvert_exporter": "python",
      "pygments_lexer": "ipython3",
      "version": "3.7.7"
    },
    "colab": {
      "provenance": [],
      "include_colab_link": true
    }
  },
  "nbformat": 4,
  "nbformat_minor": 0
}