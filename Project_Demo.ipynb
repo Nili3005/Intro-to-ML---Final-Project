{
  "cells": [
    {
      "cell_type": "markdown",
      "metadata": {
        "id": "view-in-github",
        "colab_type": "text"
      },
      "source": [
        "<a href=\"https://colab.research.google.com/github/Nili3005/ML/blob/main/Project_Demo.ipynb\" target=\"_parent\"><img src=\"https://colab.research.google.com/assets/colab-badge.svg\" alt=\"Open In Colab\"/></a>"
      ]
    },
    {
      "cell_type": "code",
      "source": [
        "!pip install --upgrade ngboost\n",
        "!pip install ucimlrepo"
      ],
      "metadata": {
        "colab": {
          "base_uri": "https://localhost:8080/"
        },
        "id": "uEiQTmeWako1",
        "outputId": "59cb5547-8a2b-411a-8eff-25df2f3e8f65"
      },
      "execution_count": 50,
      "outputs": [
        {
          "output_type": "stream",
          "name": "stdout",
          "text": [
            "Requirement already satisfied: ngboost in /usr/local/lib/python3.10/dist-packages (0.4.2)\n",
            "Requirement already satisfied: lifelines>=0.25 in /usr/local/lib/python3.10/dist-packages (from ngboost) (0.27.8)\n",
            "Requirement already satisfied: numpy>=1.21.2 in /usr/local/lib/python3.10/dist-packages (from ngboost) (1.23.5)\n",
            "Requirement already satisfied: scikit-learn>=1.0.2 in /usr/local/lib/python3.10/dist-packages (from ngboost) (1.2.2)\n",
            "Requirement already satisfied: scipy>=1.7.2 in /usr/local/lib/python3.10/dist-packages (from ngboost) (1.11.4)\n",
            "Requirement already satisfied: tqdm>=4.3 in /usr/local/lib/python3.10/dist-packages (from ngboost) (4.66.1)\n",
            "Requirement already satisfied: pandas>=1.0.0 in /usr/local/lib/python3.10/dist-packages (from lifelines>=0.25->ngboost) (1.5.3)\n",
            "Requirement already satisfied: matplotlib>=3.0 in /usr/local/lib/python3.10/dist-packages (from lifelines>=0.25->ngboost) (3.7.1)\n",
            "Requirement already satisfied: autograd>=1.5 in /usr/local/lib/python3.10/dist-packages (from lifelines>=0.25->ngboost) (1.6.2)\n",
            "Requirement already satisfied: autograd-gamma>=0.3 in /usr/local/lib/python3.10/dist-packages (from lifelines>=0.25->ngboost) (0.5.0)\n",
            "Requirement already satisfied: formulaic>=0.2.2 in /usr/local/lib/python3.10/dist-packages (from lifelines>=0.25->ngboost) (0.6.6)\n",
            "Requirement already satisfied: joblib>=1.1.1 in /usr/local/lib/python3.10/dist-packages (from scikit-learn>=1.0.2->ngboost) (1.3.2)\n",
            "Requirement already satisfied: threadpoolctl>=2.0.0 in /usr/local/lib/python3.10/dist-packages (from scikit-learn>=1.0.2->ngboost) (3.2.0)\n",
            "Requirement already satisfied: future>=0.15.2 in /usr/local/lib/python3.10/dist-packages (from autograd>=1.5->lifelines>=0.25->ngboost) (0.18.3)\n",
            "Requirement already satisfied: astor>=0.8 in /usr/local/lib/python3.10/dist-packages (from formulaic>=0.2.2->lifelines>=0.25->ngboost) (0.8.1)\n",
            "Requirement already satisfied: interface-meta>=1.2.0 in /usr/local/lib/python3.10/dist-packages (from formulaic>=0.2.2->lifelines>=0.25->ngboost) (1.3.0)\n",
            "Requirement already satisfied: typing-extensions>=4.2.0 in /usr/local/lib/python3.10/dist-packages (from formulaic>=0.2.2->lifelines>=0.25->ngboost) (4.5.0)\n",
            "Requirement already satisfied: wrapt>=1.0 in /usr/local/lib/python3.10/dist-packages (from formulaic>=0.2.2->lifelines>=0.25->ngboost) (1.14.1)\n",
            "Requirement already satisfied: contourpy>=1.0.1 in /usr/local/lib/python3.10/dist-packages (from matplotlib>=3.0->lifelines>=0.25->ngboost) (1.2.0)\n",
            "Requirement already satisfied: cycler>=0.10 in /usr/local/lib/python3.10/dist-packages (from matplotlib>=3.0->lifelines>=0.25->ngboost) (0.12.1)\n",
            "Requirement already satisfied: fonttools>=4.22.0 in /usr/local/lib/python3.10/dist-packages (from matplotlib>=3.0->lifelines>=0.25->ngboost) (4.45.1)\n",
            "Requirement already satisfied: kiwisolver>=1.0.1 in /usr/local/lib/python3.10/dist-packages (from matplotlib>=3.0->lifelines>=0.25->ngboost) (1.4.5)\n",
            "Requirement already satisfied: packaging>=20.0 in /usr/local/lib/python3.10/dist-packages (from matplotlib>=3.0->lifelines>=0.25->ngboost) (23.2)\n",
            "Requirement already satisfied: pillow>=6.2.0 in /usr/local/lib/python3.10/dist-packages (from matplotlib>=3.0->lifelines>=0.25->ngboost) (9.4.0)\n",
            "Requirement already satisfied: pyparsing>=2.3.1 in /usr/local/lib/python3.10/dist-packages (from matplotlib>=3.0->lifelines>=0.25->ngboost) (3.1.1)\n",
            "Requirement already satisfied: python-dateutil>=2.7 in /usr/local/lib/python3.10/dist-packages (from matplotlib>=3.0->lifelines>=0.25->ngboost) (2.8.2)\n",
            "Requirement already satisfied: pytz>=2020.1 in /usr/local/lib/python3.10/dist-packages (from pandas>=1.0.0->lifelines>=0.25->ngboost) (2023.3.post1)\n",
            "Requirement already satisfied: six>=1.5 in /usr/local/lib/python3.10/dist-packages (from python-dateutil>=2.7->matplotlib>=3.0->lifelines>=0.25->ngboost) (1.16.0)\n",
            "Requirement already satisfied: ucimlrepo in /usr/local/lib/python3.10/dist-packages (0.0.3)\n"
          ]
        }
      ]
    },
    {
      "cell_type": "markdown",
      "metadata": {
        "id": "6v68EV_fYGBt"
      },
      "source": [
        "# Usage\n",
        "\n",
        "We'll start with a probabilistic regression example on the Boston housing dataset:"
      ]
    },
    {
      "cell_type": "code",
      "execution_count": 51,
      "metadata": {
        "tags": [
          "remove_cell"
        ],
        "id": "B69cHiqVYGBw"
      },
      "outputs": [],
      "source": [
        "import sys\n",
        "sys.path.append('/Users/c242587/Desktop/projects/git/ngboost')"
      ]
    },
    {
      "cell_type": "code",
      "execution_count": 52,
      "metadata": {
        "id": "wF7W2EDIYGBx",
        "outputId": "96b5df05-6565-4e6e-fbc4-6a46ee77c94a",
        "colab": {
          "base_uri": "https://localhost:8080/"
        }
      },
      "outputs": [
        {
          "output_type": "stream",
          "name": "stdout",
          "text": [
            "[iter 0] loss=3.6195 val_loss=0.0000 scale=1.0000 norm=6.5324\n",
            "[iter 100] loss=2.7106 val_loss=0.0000 scale=2.0000 norm=4.9724\n",
            "[iter 200] loss=2.1570 val_loss=0.0000 scale=2.0000 norm=3.4388\n",
            "[iter 300] loss=1.8890 val_loss=0.0000 scale=2.0000 norm=2.9728\n",
            "[iter 400] loss=1.7590 val_loss=0.0000 scale=1.0000 norm=1.3779\n",
            "Test MSE 13.086311863020699\n",
            "Test NLL 3.7126910473017074\n"
          ]
        }
      ],
      "source": [
        "from ngboost import NGBRegressor\n",
        "\n",
        "import pandas as pd\n",
        "import numpy as np\n",
        "\n",
        "#from sklearn.datasets import load_boston\n",
        "from sklearn.model_selection import train_test_split\n",
        "from sklearn.metrics import mean_squared_error\n",
        "\n",
        "#X, Y = load_boston(True)\n",
        "data_url = \"http://lib.stat.cmu.edu/datasets/boston\"\n",
        "raw_df = pd.read_csv(data_url, sep=\"\\s+\", skiprows=22, header=None)\n",
        "X = np.hstack([raw_df.values[::2, :], raw_df.values[1::2, :2]])\n",
        "Y = raw_df.values[1::2, 2]\n",
        "X_train, X_test, Y_train, Y_test = train_test_split(X, Y, test_size=0.2)\n",
        "\n",
        "ngb = NGBRegressor().fit(X_train, Y_train)\n",
        "Y_preds = ngb.predict(X_test)\n",
        "Y_dists = ngb.pred_dist(X_test)\n",
        "\n",
        "# test Mean Squared Error\n",
        "test_MSE = mean_squared_error(Y_preds, Y_test)\n",
        "print('Test MSE', test_MSE)\n",
        "\n",
        "# test Negative Log Likelihood\n",
        "test_NLL = -Y_dists.logpdf(Y_test).mean()\n",
        "print('Test NLL', test_NLL)"
      ]
    },
    {
      "cell_type": "markdown",
      "metadata": {
        "id": "yfLWEN1-YGBy"
      },
      "source": [
        "Getting the estimated distributional parameters at a set of points is easy. This returns the predicted mean and standard deviation of the first five observations in the test set:"
      ]
    },
    {
      "cell_type": "code",
      "execution_count": 53,
      "metadata": {
        "id": "IhCybQf8YGBz",
        "outputId": "a4d5a8b9-47a8-465f-f317-79688e8a8886",
        "colab": {
          "base_uri": "https://localhost:8080/"
        }
      },
      "outputs": [
        {
          "output_type": "execute_result",
          "data": {
            "text/plain": [
              "{'loc': array([34.03382626, 35.97574997, 30.90244133, 34.35309589, 21.91208885]),\n",
              " 'scale': array([1.593843  , 1.47643172, 1.31619038, 1.30195658, 1.39903428])}"
            ]
          },
          "metadata": {},
          "execution_count": 53
        }
      ],
      "source": [
        "Y_dists[0:5].params"
      ]
    },
    {
      "cell_type": "markdown",
      "metadata": {
        "id": "UNBbqxuMYGBz"
      },
      "source": [
        "## Distributions\n",
        "\n",
        "NGBoost can be used with a variety of distributions, broken down into those for regression (support on an infinite set) and those for classification (support on a finite set)."
      ]
    },
    {
      "cell_type": "markdown",
      "metadata": {
        "id": "ZkmsiM1JYGB0"
      },
      "source": [
        "### Regression Distributions"
      ]
    },
    {
      "cell_type": "markdown",
      "metadata": {
        "id": "ebYJtImvYGB0"
      },
      "source": [
        "| Distribution | Parameters | Implemented Scores | Reference |\n",
        "| --- | --- | --- | --- |\n",
        "| `Normal` | `loc`, `scale` | `LogScore`, `CRPScore` | [`scipy.stats` normal](https://docs.scipy.org/doc/scipy/reference/generated/scipy.stats.norm.html) |\n",
        "| `LogNormal` | `s`, `scale` | `LogScore`, `CRPScore` | [`scipy.stats` lognormal](https://docs.scipy.org/doc/scipy/reference/generated/scipy.stats.lognorm.html) |\n",
        "| `Exponential` | `scale` | `LogScore`, `CRPScore` | [`scipy.stats` exponential](https://docs.scipy.org/doc/scipy/reference/generated/scipy.stats.expon.html) |"
      ]
    },
    {
      "cell_type": "markdown",
      "metadata": {
        "id": "eUp6rX89YGB1"
      },
      "source": [
        "Regression distributions can be used through the `NGBRegressor()` constructor by passing the appropriate class as the `Dist` argument. `Normal` is the default."
      ]
    },
    {
      "cell_type": "code",
      "execution_count": 54,
      "metadata": {
        "id": "SzD8-SUVYGB1"
      },
      "outputs": [],
      "source": [
        "from ngboost.distns import Exponential, Normal\n",
        "\n",
        "#X, Y = load_boston(True)\n",
        "X_reg_train, X_reg_test, Y_reg_train, Y_reg_test = train_test_split(X, Y, test_size=0.2)\n",
        "\n",
        "ngb_norm = NGBRegressor(Dist=Normal, verbose=False).fit(X_reg_train, Y_reg_train)\n",
        "ngb_exp = NGBRegressor(Dist=Exponential, verbose=False).fit(X_reg_train, Y_reg_train)"
      ]
    },
    {
      "cell_type": "markdown",
      "metadata": {
        "id": "ihXJ8b0aYGB1"
      },
      "source": [
        "There are two prediction methods for `NGBRegressor` objects: `predict()`, which returns point predictions as one would expect from a standard regressor, and `pred_dist()`, which returns a distribution object representing the conditional distribution of $Y|X=x_i$ at the points $x_i$ in the test set."
      ]
    },
    {
      "cell_type": "code",
      "execution_count": 55,
      "metadata": {
        "id": "mYWitZ9OYGB1",
        "outputId": "a88bad81-dd2c-47c5-f63b-3c250039d9c2",
        "colab": {
          "base_uri": "https://localhost:8080/"
        }
      },
      "outputs": [
        {
          "output_type": "execute_result",
          "data": {
            "text/plain": [
              "array([13.31615402,  9.87803185, 19.78090786, 11.65408641, 17.00388446])"
            ]
          },
          "metadata": {},
          "execution_count": 55
        }
      ],
      "source": [
        "ngb_norm.predict(X_reg_test)[0:5]"
      ]
    },
    {
      "cell_type": "code",
      "execution_count": 56,
      "metadata": {
        "id": "5HgrqhoMYGB2",
        "outputId": "a2e0e0d6-5dfa-4659-fafa-7042e5172b87",
        "colab": {
          "base_uri": "https://localhost:8080/"
        }
      },
      "outputs": [
        {
          "output_type": "execute_result",
          "data": {
            "text/plain": [
              "array([12.95094405,  9.37525238, 20.445523  , 10.6854388 , 17.27326115])"
            ]
          },
          "metadata": {},
          "execution_count": 56
        }
      ],
      "source": [
        "ngb_exp.predict(X_reg_test)[0:5]"
      ]
    },
    {
      "cell_type": "code",
      "execution_count": 57,
      "metadata": {
        "id": "8HDlzrWNYGB2",
        "outputId": "da47278f-9c28-46ce-f3d5-d7eeaf5dade5",
        "colab": {
          "base_uri": "https://localhost:8080/"
        }
      },
      "outputs": [
        {
          "output_type": "execute_result",
          "data": {
            "text/plain": [
              "{'scale': array([12.95094405,  9.37525238, 20.445523  , 10.6854388 , 17.27326115])}"
            ]
          },
          "metadata": {},
          "execution_count": 57
        }
      ],
      "source": [
        "ngb_exp.pred_dist(X_reg_test)[0:5].params"
      ]
    },
    {
      "cell_type": "markdown",
      "metadata": {
        "id": "2ZlBmH1KYGB2"
      },
      "source": [
        "#### Survival Regression"
      ]
    },
    {
      "cell_type": "markdown",
      "metadata": {
        "id": "Zn7FxIO6YGB3"
      },
      "source": [
        "NGBoost supports analyses of right-censored data. Any distribution that can be used for regression in NGBoost can also be used for survival analysis in theory, but this requires the implementation of the right-censored version of the appropriate score. At the moment, `LogNormal` and `Exponential` have these scores implemented. To do survival analysis, use `NGBSurvival` and pass both the time-to-event (or censoring) and event indicator vectors to  `fit()`:"
      ]
    },
    {
      "cell_type": "code",
      "execution_count": 58,
      "metadata": {
        "id": "byYiYJ5jYGB3",
        "outputId": "a2ac5b57-3048-4972-8d1c-8cd74e339982",
        "colab": {
          "base_uri": "https://localhost:8080/"
        }
      },
      "outputs": [
        {
          "output_type": "stream",
          "name": "stdout",
          "text": [
            "[iter 0] loss=1.2640 val_loss=0.0000 scale=4.0000 norm=2.4457\n",
            "[iter 100] loss=0.5586 val_loss=0.0000 scale=2.0000 norm=0.8612\n",
            "[iter 200] loss=0.3064 val_loss=0.0000 scale=2.0000 norm=0.5166\n",
            "[iter 300] loss=0.1419 val_loss=0.0000 scale=2.0000 norm=0.2929\n",
            "[iter 400] loss=-0.0028 val_loss=0.0000 scale=2.0000 norm=0.2143\n"
          ]
        }
      ],
      "source": [
        "import numpy as np\n",
        "from ngboost import NGBSurvival\n",
        "from ngboost.distns import LogNormal\n",
        "\n",
        "#X, Y = load_boston(True)\n",
        "X_surv_train, X_surv_test, Y_surv_train, Y_surv_test = train_test_split(X, Y, test_size=0.2)\n",
        "\n",
        "# introduce administrative censoring to simulate survival data\n",
        "T_surv_train = np.minimum(Y_surv_train, 30) # time of an event or censoring\n",
        "E_surv_train = Y_surv_train > 30 # 1 if T[i] is the time of an event, 0 if it's a time of censoring\n",
        "\n",
        "ngb = NGBSurvival(Dist=LogNormal).fit(X_surv_train, T_surv_train, E_surv_train)"
      ]
    },
    {
      "cell_type": "markdown",
      "metadata": {
        "id": "5rvKBR02YGB3"
      },
      "source": [
        "The scores currently implemented assume that the censoring is independent of survival, conditional on the observed predictors."
      ]
    },
    {
      "cell_type": "markdown",
      "metadata": {
        "id": "R0KnXB22YGB3"
      },
      "source": [
        "### Classification Distributions"
      ]
    },
    {
      "cell_type": "markdown",
      "metadata": {
        "id": "dv67RKIFYGB3"
      },
      "source": [
        "| Distribution | Parameters | Implemented Scores | Reference |\n",
        "| --- | --- | --- | --- |\n",
        "| `k_categorical(K)` | `p0`, `p1`... `p{K-1}` | `LogScore` | [Categorical distribution on Wikipedia](https://en.wikipedia.org/wiki/Categorical_distribution) |\n",
        "| `Bernoulli` | `p` | `LogScore` | [Bernoulli distribution on Wikipedia](https://en.wikipedia.org/wiki/Bernoulli_distribution) |"
      ]
    },
    {
      "cell_type": "markdown",
      "metadata": {
        "id": "2oEgUThdYGB3"
      },
      "source": [
        "Classification distributions can be used through the `NGBClassifier()` constructor by passing the appropriate class as the `Dist` argument. `Bernoulli` is the default and is equivalent to `k_categorical(2)`."
      ]
    },
    {
      "cell_type": "code",
      "execution_count": 59,
      "metadata": {
        "id": "o__ZxDBFYGB3"
      },
      "outputs": [],
      "source": [
        "from ngboost import NGBClassifier\n",
        "from ngboost.distns import k_categorical, Bernoulli\n",
        "from sklearn.datasets import load_breast_cancer\n",
        "\n",
        "#X, y = load_breast_cancer(True)\n",
        "data = load_breast_cancer()\n",
        "X, y = data.data, data.target\n",
        "y[0:15] = 2 # artificially make this a 3-class problem instead of a 2-class problem\n",
        "X_cls_train, X_cls_test, Y_cls_train, Y_cls_test  = train_test_split(X, y, test_size=0.2)\n",
        "\n",
        "ngb_cat = NGBClassifier(Dist=k_categorical(3), verbose=False) # tell ngboost that there are 3 possible outcomes\n",
        "_ = ngb_cat.fit(X_cls_train, Y_cls_train) # Y should have only 3 values: {0,1,2}"
      ]
    },
    {
      "cell_type": "markdown",
      "metadata": {
        "id": "sdD9ivqlYGB4"
      },
      "source": [
        "When using NGBoost for classification, the outcome vector `Y` must consist only of integers from 0 to K-1, where K is the total number of classes. This is consistent with the classification standards in sklearn."
      ]
    },
    {
      "cell_type": "markdown",
      "metadata": {
        "id": "7FJRaHbGYGB4"
      },
      "source": [
        "`NGBClassifier` objects have three prediction methods: `predict()` returns the most likely class, `predict_proba()` returns the class probabilities, and `pred_dist()` returns the distribution object."
      ]
    },
    {
      "cell_type": "code",
      "execution_count": 60,
      "metadata": {
        "id": "dajpHilnYGB4",
        "outputId": "11fb3caa-3210-45e9-fafe-7940f09f840e",
        "colab": {
          "base_uri": "https://localhost:8080/"
        }
      },
      "outputs": [
        {
          "output_type": "execute_result",
          "data": {
            "text/plain": [
              "array([1, 1, 1, 1, 1])"
            ]
          },
          "metadata": {},
          "execution_count": 60
        }
      ],
      "source": [
        "ngb_cat.predict(X_cls_test)[0:5]"
      ]
    },
    {
      "cell_type": "code",
      "execution_count": 61,
      "metadata": {
        "id": "a3Gm328uYGB4",
        "outputId": "9c7ea50e-9fdf-4339-94ce-7345a0d5c9cb",
        "colab": {
          "base_uri": "https://localhost:8080/"
        }
      },
      "outputs": [
        {
          "output_type": "execute_result",
          "data": {
            "text/plain": [
              "array([[3.14557799e-03, 9.96659347e-01, 1.95074652e-04],\n",
              "       [3.14557799e-03, 9.96659347e-01, 1.95074652e-04],\n",
              "       [1.29217245e-01, 8.63272497e-01, 7.51025775e-03],\n",
              "       [1.34545715e-02, 9.86223058e-01, 3.22370342e-04],\n",
              "       [3.14561652e-03, 9.96671557e-01, 1.82826919e-04]])"
            ]
          },
          "metadata": {},
          "execution_count": 61
        }
      ],
      "source": [
        "ngb_cat.predict_proba(X_cls_test)[0:5]"
      ]
    },
    {
      "cell_type": "code",
      "execution_count": 62,
      "metadata": {
        "id": "RILuySxqYGB4",
        "outputId": "a61138ee-868f-4e1b-b8f1-7cb4e599c9b3",
        "colab": {
          "base_uri": "https://localhost:8080/"
        }
      },
      "outputs": [
        {
          "output_type": "execute_result",
          "data": {
            "text/plain": [
              "{'p0': array([0.00314558, 0.00314558, 0.12921725, 0.01345457, 0.00314562]),\n",
              " 'p1': array([0.99665935, 0.99665935, 0.8632725 , 0.98622306, 0.99667156]),\n",
              " 'p2': array([0.00019507, 0.00019507, 0.00751026, 0.00032237, 0.00018283])}"
            ]
          },
          "metadata": {},
          "execution_count": 62
        }
      ],
      "source": [
        "ngb_cat.pred_dist(X_cls_test)[0:5].params"
      ]
    },
    {
      "cell_type": "markdown",
      "metadata": {
        "id": "jgVVFFOQYGB4"
      },
      "source": [
        "## Scores"
      ]
    },
    {
      "cell_type": "markdown",
      "metadata": {
        "id": "LoEiDd5bYGB4"
      },
      "source": [
        "NGBoost supports the log score (`LogScore`, also known as negative log-likelihood) and CRPS (`CRPScore`), although each score may not be implemented for each distribution. The score is specified by the `Score` argument in the constructor."
      ]
    },
    {
      "cell_type": "code",
      "execution_count": 63,
      "metadata": {
        "tags": [
          "hide_output"
        ],
        "id": "KCb4GcT3YGB4",
        "outputId": "eb44524b-2800-43f1-985c-8755be139c13",
        "colab": {
          "base_uri": "https://localhost:8080/"
        }
      },
      "outputs": [
        {
          "output_type": "stream",
          "name": "stdout",
          "text": [
            "[14.17693471 13.28605331 20.79865025 13.93046904 16.92209987 27.61295736\n",
            " 36.51742064 16.92209987 26.8370973  19.48135766 18.12556832 28.48264484\n",
            " 20.12121998 18.59218993 27.03332705 18.8487727  29.40795682 18.2974402\n",
            " 13.19500119 21.85550529 20.46808549 24.08839659 19.82831636 40.6764783\n",
            " 20.53458014 28.16397455 14.97565519 26.20634875 17.01909086 22.43035361\n",
            " 15.97739817 24.08839659 15.59258743 15.152676   16.84709104 26.26426617\n",
            " 26.54678062 20.12121998 22.42232367 18.39270282 18.25591858 13.93046904\n",
            " 18.59218993 19.82831636 37.33462563 36.45875522 20.12121998 21.53735576\n",
            " 24.92782823 21.53735576 22.42232367 29.54386428 40.20427171 28.91507638\n",
            " 20.08090466 19.82831636 22.095923   22.42232367 26.47204993 22.43035361\n",
            " 15.77907275 18.29870551 19.82831636 21.53735576 27.32609216 21.53735576\n",
            " 16.11670173 22.42232367 20.53458014 29.54386428 16.66211311 16.80738655\n",
            " 20.53458014 20.34929452 18.58400491 22.43035361 21.55594542 24.71312458\n",
            " 15.04703298 21.53735576 30.25587799 16.30877251 19.82831636 22.42232367\n",
            " 20.12121998 25.00338479 21.85550529 19.58563744 36.45875522 15.36691832\n",
            " 22.43035361 17.59720558 21.53735576 19.82831636 19.48135766 20.23565926\n",
            " 19.82831636 13.22732596 20.53458014 24.08839659 20.74869935 13.33737054]\n",
            "Mean Squared Error: 14.469155098256087\n",
            "[1 1 1 1 1 1 0 1 0 1 0 1 1 1 1 1 1 1 1 0 1 1 0 0 1 1 0 1 1 0 1 1 1 0 0 1 0\n",
            " 0 0 0 0 0 1 1 0 0 1 1 1 1 1 1 1 1 0 1 1 0 0 0 0 1 0 0 1 1 1 1 1 1 1 0 1 1\n",
            " 1 1 1 1 1 1 1 1 0 1 1 1 1 1 1 0 1 0 1 0 0 1 0 1 1 0 1 0 1 1 1 0 1 1 1 1 0\n",
            " 1 1 1]\n",
            "Accuracy: 0.8947368421052632\n"
          ]
        }
      ],
      "source": [
        "from ngboost.scores import LogScore, CRPScore\n",
        "from sklearn.metrics import accuracy_score\n",
        "\n",
        "#NGBRegressor(Dist=Exponential, Score=CRPScore, verbose=False).fit(X_reg_train, Y_reg_train)\n",
        "#NGBClassifier(Dist=k_categorical(3), Score=LogScore, verbose=False).fit(X_cls_train, Y_cls_train)\n",
        "\n",
        "reg_model = NGBRegressor(Dist=Exponential, Score=CRPScore, verbose=False).fit(X_reg_train, Y_reg_train)\n",
        "cls_model = NGBClassifier(Dist=k_categorical(3), Score=LogScore, verbose=False).fit(X_cls_train, Y_cls_train)\n",
        "\n",
        "#For Regression model - Prediction and MSE for accuracy\n",
        "reg_predictions= reg_model.predict(X_reg_test)\n",
        "print(reg_predictions)\n",
        "\n",
        "mse = mean_squared_error(Y_reg_test, reg_predictions)\n",
        "print(f'Mean Squared Error: {mse}')\n",
        "\n",
        "\n",
        "#For Classifier model - Prediction and accuracy\n",
        "cls_predictions = cls_model.predict(X_cls_test)\n",
        "print(cls_predictions)\n",
        "\n",
        "predicted_labels = np.round(cls_predictions).astype(int)\n",
        "accuracy = accuracy_score(Y_cls_test, predicted_labels)\n",
        "print(f'Accuracy: {accuracy}')\n"
      ]
    },
    {
      "cell_type": "markdown",
      "metadata": {
        "id": "TuWNTQVIYGB5"
      },
      "source": [
        "## Base Learners"
      ]
    },
    {
      "cell_type": "markdown",
      "metadata": {
        "id": "hvGbzOC7YGB5"
      },
      "source": [
        "NGBoost can be used with any sklearn regressor as the base learner, specified with the `Base` argument. The default is a depth-3 regression tree."
      ]
    },
    {
      "cell_type": "code",
      "execution_count": 64,
      "metadata": {
        "tags": [
          "hide_output"
        ],
        "id": "-6L6fzDPYGB5",
        "outputId": "400ad03d-d9d8-41d5-e70b-df242d73302f",
        "colab": {
          "base_uri": "https://localhost:8080/",
          "height": 118
        }
      },
      "outputs": [
        {
          "output_type": "execute_result",
          "data": {
            "text/plain": [
              "NGBSurvival(Base=DecisionTreeRegressor(criterion='friedman_mse', max_depth=5),\n",
              "            Dist=<class 'ngboost.distns.utils.SurvivalDistnClass.<locals>.SurvivalDistn'>,\n",
              "            Score=<class 'ngboost.scores.CRPScore'>,\n",
              "            random_state=RandomState(MT19937) at 0x79DDFA98F940, verbose=False)"
            ],
            "text/html": [
              "<style>#sk-container-id-7 {color: black;background-color: white;}#sk-container-id-7 pre{padding: 0;}#sk-container-id-7 div.sk-toggleable {background-color: white;}#sk-container-id-7 label.sk-toggleable__label {cursor: pointer;display: block;width: 100%;margin-bottom: 0;padding: 0.3em;box-sizing: border-box;text-align: center;}#sk-container-id-7 label.sk-toggleable__label-arrow:before {content: \"▸\";float: left;margin-right: 0.25em;color: #696969;}#sk-container-id-7 label.sk-toggleable__label-arrow:hover:before {color: black;}#sk-container-id-7 div.sk-estimator:hover label.sk-toggleable__label-arrow:before {color: black;}#sk-container-id-7 div.sk-toggleable__content {max-height: 0;max-width: 0;overflow: hidden;text-align: left;background-color: #f0f8ff;}#sk-container-id-7 div.sk-toggleable__content pre {margin: 0.2em;color: black;border-radius: 0.25em;background-color: #f0f8ff;}#sk-container-id-7 input.sk-toggleable__control:checked~div.sk-toggleable__content {max-height: 200px;max-width: 100%;overflow: auto;}#sk-container-id-7 input.sk-toggleable__control:checked~label.sk-toggleable__label-arrow:before {content: \"▾\";}#sk-container-id-7 div.sk-estimator input.sk-toggleable__control:checked~label.sk-toggleable__label {background-color: #d4ebff;}#sk-container-id-7 div.sk-label input.sk-toggleable__control:checked~label.sk-toggleable__label {background-color: #d4ebff;}#sk-container-id-7 input.sk-hidden--visually {border: 0;clip: rect(1px 1px 1px 1px);clip: rect(1px, 1px, 1px, 1px);height: 1px;margin: -1px;overflow: hidden;padding: 0;position: absolute;width: 1px;}#sk-container-id-7 div.sk-estimator {font-family: monospace;background-color: #f0f8ff;border: 1px dotted black;border-radius: 0.25em;box-sizing: border-box;margin-bottom: 0.5em;}#sk-container-id-7 div.sk-estimator:hover {background-color: #d4ebff;}#sk-container-id-7 div.sk-parallel-item::after {content: \"\";width: 100%;border-bottom: 1px solid gray;flex-grow: 1;}#sk-container-id-7 div.sk-label:hover label.sk-toggleable__label {background-color: #d4ebff;}#sk-container-id-7 div.sk-serial::before {content: \"\";position: absolute;border-left: 1px solid gray;box-sizing: border-box;top: 0;bottom: 0;left: 50%;z-index: 0;}#sk-container-id-7 div.sk-serial {display: flex;flex-direction: column;align-items: center;background-color: white;padding-right: 0.2em;padding-left: 0.2em;position: relative;}#sk-container-id-7 div.sk-item {position: relative;z-index: 1;}#sk-container-id-7 div.sk-parallel {display: flex;align-items: stretch;justify-content: center;background-color: white;position: relative;}#sk-container-id-7 div.sk-item::before, #sk-container-id-7 div.sk-parallel-item::before {content: \"\";position: absolute;border-left: 1px solid gray;box-sizing: border-box;top: 0;bottom: 0;left: 50%;z-index: -1;}#sk-container-id-7 div.sk-parallel-item {display: flex;flex-direction: column;z-index: 1;position: relative;background-color: white;}#sk-container-id-7 div.sk-parallel-item:first-child::after {align-self: flex-end;width: 50%;}#sk-container-id-7 div.sk-parallel-item:last-child::after {align-self: flex-start;width: 50%;}#sk-container-id-7 div.sk-parallel-item:only-child::after {width: 0;}#sk-container-id-7 div.sk-dashed-wrapped {border: 1px dashed gray;margin: 0 0.4em 0.5em 0.4em;box-sizing: border-box;padding-bottom: 0.4em;background-color: white;}#sk-container-id-7 div.sk-label label {font-family: monospace;font-weight: bold;display: inline-block;line-height: 1.2em;}#sk-container-id-7 div.sk-label-container {text-align: center;}#sk-container-id-7 div.sk-container {/* jupyter's `normalize.less` sets `[hidden] { display: none; }` but bootstrap.min.css set `[hidden] { display: none !important; }` so we also need the `!important` here to be able to override the default hidden behavior on the sphinx rendered scikit-learn.org. See: https://github.com/scikit-learn/scikit-learn/issues/21755 */display: inline-block !important;position: relative;}#sk-container-id-7 div.sk-text-repr-fallback {display: none;}</style><div id=\"sk-container-id-7\" class=\"sk-top-container\"><div class=\"sk-text-repr-fallback\"><pre>NGBSurvival(Base=DecisionTreeRegressor(criterion=&#x27;friedman_mse&#x27;, max_depth=5),\n",
              "            Dist=&lt;class &#x27;ngboost.distns.utils.SurvivalDistnClass.&lt;locals&gt;.SurvivalDistn&#x27;&gt;,\n",
              "            Score=&lt;class &#x27;ngboost.scores.CRPScore&#x27;&gt;,\n",
              "            random_state=RandomState(MT19937) at 0x79DDFA98F940, verbose=False)</pre><b>In a Jupyter environment, please rerun this cell to show the HTML representation or trust the notebook. <br />On GitHub, the HTML representation is unable to render, please try loading this page with nbviewer.org.</b></div><div class=\"sk-container\" hidden><div class=\"sk-item sk-dashed-wrapped\"><div class=\"sk-label-container\"><div class=\"sk-label sk-toggleable\"><input class=\"sk-toggleable__control sk-hidden--visually\" id=\"sk-estimator-id-19\" type=\"checkbox\" ><label for=\"sk-estimator-id-19\" class=\"sk-toggleable__label sk-toggleable__label-arrow\">NGBSurvival</label><div class=\"sk-toggleable__content\"><pre>NGBSurvival(Base=DecisionTreeRegressor(criterion=&#x27;friedman_mse&#x27;, max_depth=5),\n",
              "            Dist=&lt;class &#x27;ngboost.distns.utils.SurvivalDistnClass.&lt;locals&gt;.SurvivalDistn&#x27;&gt;,\n",
              "            Score=&lt;class &#x27;ngboost.scores.CRPScore&#x27;&gt;,\n",
              "            random_state=RandomState(MT19937) at 0x79DDFA98F940, verbose=False)</pre></div></div></div><div class=\"sk-parallel\"><div class=\"sk-parallel-item\"><div class=\"sk-item\"><div class=\"sk-label-container\"><div class=\"sk-label sk-toggleable\"><input class=\"sk-toggleable__control sk-hidden--visually\" id=\"sk-estimator-id-20\" type=\"checkbox\" ><label for=\"sk-estimator-id-20\" class=\"sk-toggleable__label sk-toggleable__label-arrow\">Base: DecisionTreeRegressor</label><div class=\"sk-toggleable__content\"><pre>DecisionTreeRegressor(criterion=&#x27;friedman_mse&#x27;, max_depth=5)</pre></div></div></div><div class=\"sk-serial\"><div class=\"sk-item\"><div class=\"sk-estimator sk-toggleable\"><input class=\"sk-toggleable__control sk-hidden--visually\" id=\"sk-estimator-id-21\" type=\"checkbox\" ><label for=\"sk-estimator-id-21\" class=\"sk-toggleable__label sk-toggleable__label-arrow\">DecisionTreeRegressor</label><div class=\"sk-toggleable__content\"><pre>DecisionTreeRegressor(criterion=&#x27;friedman_mse&#x27;, max_depth=5)</pre></div></div></div></div></div></div></div></div></div></div>"
            ]
          },
          "metadata": {},
          "execution_count": 64
        }
      ],
      "source": [
        "from sklearn.tree import DecisionTreeRegressor\n",
        "\n",
        "learner = DecisionTreeRegressor(criterion='friedman_mse', max_depth=5)\n",
        "\n",
        "NGBSurvival(Dist=Exponential, Score=CRPScore, Base=learner, verbose=False).fit(X_surv_train, T_surv_train, E_surv_train)"
      ]
    },
    {
      "cell_type": "markdown",
      "metadata": {
        "id": "KI-jzSz8YGB5"
      },
      "source": [
        "## Other Arguments"
      ]
    },
    {
      "cell_type": "markdown",
      "metadata": {
        "id": "RYJc7c4gYGB5"
      },
      "source": [
        "The learning rate, number of estimators, minibatch fraction, and column subsampling are also easily adjusted:"
      ]
    },
    {
      "cell_type": "code",
      "execution_count": 65,
      "metadata": {
        "tags": [
          "hide_output"
        ],
        "id": "3r-naJj-YGB5",
        "outputId": "2967fd09-fcad-4181-82c7-f94e114cfdd1",
        "colab": {
          "base_uri": "https://localhost:8080/",
          "height": 135
        }
      },
      "outputs": [
        {
          "output_type": "stream",
          "name": "stdout",
          "text": [
            "[iter 0] loss=3.6546 val_loss=0.0000 scale=1.0000 norm=6.8256\n"
          ]
        },
        {
          "output_type": "execute_result",
          "data": {
            "text/plain": [
              "NGBRegressor(col_sample=0.5, minibatch_frac=0.5, n_estimators=100,\n",
              "             random_state=RandomState(MT19937) at 0x79DDFA98F940)"
            ],
            "text/html": [
              "<style>#sk-container-id-8 {color: black;background-color: white;}#sk-container-id-8 pre{padding: 0;}#sk-container-id-8 div.sk-toggleable {background-color: white;}#sk-container-id-8 label.sk-toggleable__label {cursor: pointer;display: block;width: 100%;margin-bottom: 0;padding: 0.3em;box-sizing: border-box;text-align: center;}#sk-container-id-8 label.sk-toggleable__label-arrow:before {content: \"▸\";float: left;margin-right: 0.25em;color: #696969;}#sk-container-id-8 label.sk-toggleable__label-arrow:hover:before {color: black;}#sk-container-id-8 div.sk-estimator:hover label.sk-toggleable__label-arrow:before {color: black;}#sk-container-id-8 div.sk-toggleable__content {max-height: 0;max-width: 0;overflow: hidden;text-align: left;background-color: #f0f8ff;}#sk-container-id-8 div.sk-toggleable__content pre {margin: 0.2em;color: black;border-radius: 0.25em;background-color: #f0f8ff;}#sk-container-id-8 input.sk-toggleable__control:checked~div.sk-toggleable__content {max-height: 200px;max-width: 100%;overflow: auto;}#sk-container-id-8 input.sk-toggleable__control:checked~label.sk-toggleable__label-arrow:before {content: \"▾\";}#sk-container-id-8 div.sk-estimator input.sk-toggleable__control:checked~label.sk-toggleable__label {background-color: #d4ebff;}#sk-container-id-8 div.sk-label input.sk-toggleable__control:checked~label.sk-toggleable__label {background-color: #d4ebff;}#sk-container-id-8 input.sk-hidden--visually {border: 0;clip: rect(1px 1px 1px 1px);clip: rect(1px, 1px, 1px, 1px);height: 1px;margin: -1px;overflow: hidden;padding: 0;position: absolute;width: 1px;}#sk-container-id-8 div.sk-estimator {font-family: monospace;background-color: #f0f8ff;border: 1px dotted black;border-radius: 0.25em;box-sizing: border-box;margin-bottom: 0.5em;}#sk-container-id-8 div.sk-estimator:hover {background-color: #d4ebff;}#sk-container-id-8 div.sk-parallel-item::after {content: \"\";width: 100%;border-bottom: 1px solid gray;flex-grow: 1;}#sk-container-id-8 div.sk-label:hover label.sk-toggleable__label {background-color: #d4ebff;}#sk-container-id-8 div.sk-serial::before {content: \"\";position: absolute;border-left: 1px solid gray;box-sizing: border-box;top: 0;bottom: 0;left: 50%;z-index: 0;}#sk-container-id-8 div.sk-serial {display: flex;flex-direction: column;align-items: center;background-color: white;padding-right: 0.2em;padding-left: 0.2em;position: relative;}#sk-container-id-8 div.sk-item {position: relative;z-index: 1;}#sk-container-id-8 div.sk-parallel {display: flex;align-items: stretch;justify-content: center;background-color: white;position: relative;}#sk-container-id-8 div.sk-item::before, #sk-container-id-8 div.sk-parallel-item::before {content: \"\";position: absolute;border-left: 1px solid gray;box-sizing: border-box;top: 0;bottom: 0;left: 50%;z-index: -1;}#sk-container-id-8 div.sk-parallel-item {display: flex;flex-direction: column;z-index: 1;position: relative;background-color: white;}#sk-container-id-8 div.sk-parallel-item:first-child::after {align-self: flex-end;width: 50%;}#sk-container-id-8 div.sk-parallel-item:last-child::after {align-self: flex-start;width: 50%;}#sk-container-id-8 div.sk-parallel-item:only-child::after {width: 0;}#sk-container-id-8 div.sk-dashed-wrapped {border: 1px dashed gray;margin: 0 0.4em 0.5em 0.4em;box-sizing: border-box;padding-bottom: 0.4em;background-color: white;}#sk-container-id-8 div.sk-label label {font-family: monospace;font-weight: bold;display: inline-block;line-height: 1.2em;}#sk-container-id-8 div.sk-label-container {text-align: center;}#sk-container-id-8 div.sk-container {/* jupyter's `normalize.less` sets `[hidden] { display: none; }` but bootstrap.min.css set `[hidden] { display: none !important; }` so we also need the `!important` here to be able to override the default hidden behavior on the sphinx rendered scikit-learn.org. See: https://github.com/scikit-learn/scikit-learn/issues/21755 */display: inline-block !important;position: relative;}#sk-container-id-8 div.sk-text-repr-fallback {display: none;}</style><div id=\"sk-container-id-8\" class=\"sk-top-container\"><div class=\"sk-text-repr-fallback\"><pre>NGBRegressor(col_sample=0.5, minibatch_frac=0.5, n_estimators=100,\n",
              "             random_state=RandomState(MT19937) at 0x79DDFA98F940)</pre><b>In a Jupyter environment, please rerun this cell to show the HTML representation or trust the notebook. <br />On GitHub, the HTML representation is unable to render, please try loading this page with nbviewer.org.</b></div><div class=\"sk-container\" hidden><div class=\"sk-item sk-dashed-wrapped\"><div class=\"sk-label-container\"><div class=\"sk-label sk-toggleable\"><input class=\"sk-toggleable__control sk-hidden--visually\" id=\"sk-estimator-id-22\" type=\"checkbox\" ><label for=\"sk-estimator-id-22\" class=\"sk-toggleable__label sk-toggleable__label-arrow\">NGBRegressor</label><div class=\"sk-toggleable__content\"><pre>NGBRegressor(col_sample=0.5, minibatch_frac=0.5, n_estimators=100,\n",
              "             random_state=RandomState(MT19937) at 0x79DDFA98F940)</pre></div></div></div><div class=\"sk-parallel\"><div class=\"sk-parallel-item\"><div class=\"sk-item\"><div class=\"sk-label-container\"><div class=\"sk-label sk-toggleable\"><input class=\"sk-toggleable__control sk-hidden--visually\" id=\"sk-estimator-id-23\" type=\"checkbox\" ><label for=\"sk-estimator-id-23\" class=\"sk-toggleable__label sk-toggleable__label-arrow\">Base: DecisionTreeRegressor</label><div class=\"sk-toggleable__content\"><pre>DecisionTreeRegressor(criterion=&#x27;friedman_mse&#x27;, max_depth=3)</pre></div></div></div><div class=\"sk-serial\"><div class=\"sk-item\"><div class=\"sk-estimator sk-toggleable\"><input class=\"sk-toggleable__control sk-hidden--visually\" id=\"sk-estimator-id-24\" type=\"checkbox\" ><label for=\"sk-estimator-id-24\" class=\"sk-toggleable__label sk-toggleable__label-arrow\">DecisionTreeRegressor</label><div class=\"sk-toggleable__content\"><pre>DecisionTreeRegressor(criterion=&#x27;friedman_mse&#x27;, max_depth=3)</pre></div></div></div></div></div></div></div></div></div></div>"
            ]
          },
          "metadata": {},
          "execution_count": 65
        }
      ],
      "source": [
        "ngb = NGBRegressor(n_estimators=100, learning_rate=0.01,\n",
        "             minibatch_frac=0.5, col_sample=0.5)\n",
        "ngb.fit(X_reg_train, Y_reg_train)"
      ]
    },
    {
      "cell_type": "markdown",
      "metadata": {
        "id": "JzIKH4epYGB5"
      },
      "source": [
        "Sample weights (for training) are set using the `sample_weight` argument to `fit`."
      ]
    },
    {
      "cell_type": "code",
      "execution_count": 66,
      "metadata": {
        "tags": [
          "hide_output"
        ],
        "id": "WOudBxY5YGB6",
        "outputId": "66be5023-aefa-475b-ba55-61005fa3c5a4",
        "colab": {
          "base_uri": "https://localhost:8080/",
          "height": 135
        }
      },
      "outputs": [
        {
          "output_type": "stream",
          "name": "stdout",
          "text": [
            "[iter 0] loss=3.7596 val_loss=0.0000 scale=1.0000 norm=7.5870\n"
          ]
        },
        {
          "output_type": "execute_result",
          "data": {
            "text/plain": [
              "NGBRegressor(col_sample=0.5, minibatch_frac=0.5, n_estimators=100,\n",
              "             random_state=RandomState(MT19937) at 0x79DDFA98F940)"
            ],
            "text/html": [
              "<style>#sk-container-id-9 {color: black;background-color: white;}#sk-container-id-9 pre{padding: 0;}#sk-container-id-9 div.sk-toggleable {background-color: white;}#sk-container-id-9 label.sk-toggleable__label {cursor: pointer;display: block;width: 100%;margin-bottom: 0;padding: 0.3em;box-sizing: border-box;text-align: center;}#sk-container-id-9 label.sk-toggleable__label-arrow:before {content: \"▸\";float: left;margin-right: 0.25em;color: #696969;}#sk-container-id-9 label.sk-toggleable__label-arrow:hover:before {color: black;}#sk-container-id-9 div.sk-estimator:hover label.sk-toggleable__label-arrow:before {color: black;}#sk-container-id-9 div.sk-toggleable__content {max-height: 0;max-width: 0;overflow: hidden;text-align: left;background-color: #f0f8ff;}#sk-container-id-9 div.sk-toggleable__content pre {margin: 0.2em;color: black;border-radius: 0.25em;background-color: #f0f8ff;}#sk-container-id-9 input.sk-toggleable__control:checked~div.sk-toggleable__content {max-height: 200px;max-width: 100%;overflow: auto;}#sk-container-id-9 input.sk-toggleable__control:checked~label.sk-toggleable__label-arrow:before {content: \"▾\";}#sk-container-id-9 div.sk-estimator input.sk-toggleable__control:checked~label.sk-toggleable__label {background-color: #d4ebff;}#sk-container-id-9 div.sk-label input.sk-toggleable__control:checked~label.sk-toggleable__label {background-color: #d4ebff;}#sk-container-id-9 input.sk-hidden--visually {border: 0;clip: rect(1px 1px 1px 1px);clip: rect(1px, 1px, 1px, 1px);height: 1px;margin: -1px;overflow: hidden;padding: 0;position: absolute;width: 1px;}#sk-container-id-9 div.sk-estimator {font-family: monospace;background-color: #f0f8ff;border: 1px dotted black;border-radius: 0.25em;box-sizing: border-box;margin-bottom: 0.5em;}#sk-container-id-9 div.sk-estimator:hover {background-color: #d4ebff;}#sk-container-id-9 div.sk-parallel-item::after {content: \"\";width: 100%;border-bottom: 1px solid gray;flex-grow: 1;}#sk-container-id-9 div.sk-label:hover label.sk-toggleable__label {background-color: #d4ebff;}#sk-container-id-9 div.sk-serial::before {content: \"\";position: absolute;border-left: 1px solid gray;box-sizing: border-box;top: 0;bottom: 0;left: 50%;z-index: 0;}#sk-container-id-9 div.sk-serial {display: flex;flex-direction: column;align-items: center;background-color: white;padding-right: 0.2em;padding-left: 0.2em;position: relative;}#sk-container-id-9 div.sk-item {position: relative;z-index: 1;}#sk-container-id-9 div.sk-parallel {display: flex;align-items: stretch;justify-content: center;background-color: white;position: relative;}#sk-container-id-9 div.sk-item::before, #sk-container-id-9 div.sk-parallel-item::before {content: \"\";position: absolute;border-left: 1px solid gray;box-sizing: border-box;top: 0;bottom: 0;left: 50%;z-index: -1;}#sk-container-id-9 div.sk-parallel-item {display: flex;flex-direction: column;z-index: 1;position: relative;background-color: white;}#sk-container-id-9 div.sk-parallel-item:first-child::after {align-self: flex-end;width: 50%;}#sk-container-id-9 div.sk-parallel-item:last-child::after {align-self: flex-start;width: 50%;}#sk-container-id-9 div.sk-parallel-item:only-child::after {width: 0;}#sk-container-id-9 div.sk-dashed-wrapped {border: 1px dashed gray;margin: 0 0.4em 0.5em 0.4em;box-sizing: border-box;padding-bottom: 0.4em;background-color: white;}#sk-container-id-9 div.sk-label label {font-family: monospace;font-weight: bold;display: inline-block;line-height: 1.2em;}#sk-container-id-9 div.sk-label-container {text-align: center;}#sk-container-id-9 div.sk-container {/* jupyter's `normalize.less` sets `[hidden] { display: none; }` but bootstrap.min.css set `[hidden] { display: none !important; }` so we also need the `!important` here to be able to override the default hidden behavior on the sphinx rendered scikit-learn.org. See: https://github.com/scikit-learn/scikit-learn/issues/21755 */display: inline-block !important;position: relative;}#sk-container-id-9 div.sk-text-repr-fallback {display: none;}</style><div id=\"sk-container-id-9\" class=\"sk-top-container\"><div class=\"sk-text-repr-fallback\"><pre>NGBRegressor(col_sample=0.5, minibatch_frac=0.5, n_estimators=100,\n",
              "             random_state=RandomState(MT19937) at 0x79DDFA98F940)</pre><b>In a Jupyter environment, please rerun this cell to show the HTML representation or trust the notebook. <br />On GitHub, the HTML representation is unable to render, please try loading this page with nbviewer.org.</b></div><div class=\"sk-container\" hidden><div class=\"sk-item sk-dashed-wrapped\"><div class=\"sk-label-container\"><div class=\"sk-label sk-toggleable\"><input class=\"sk-toggleable__control sk-hidden--visually\" id=\"sk-estimator-id-25\" type=\"checkbox\" ><label for=\"sk-estimator-id-25\" class=\"sk-toggleable__label sk-toggleable__label-arrow\">NGBRegressor</label><div class=\"sk-toggleable__content\"><pre>NGBRegressor(col_sample=0.5, minibatch_frac=0.5, n_estimators=100,\n",
              "             random_state=RandomState(MT19937) at 0x79DDFA98F940)</pre></div></div></div><div class=\"sk-parallel\"><div class=\"sk-parallel-item\"><div class=\"sk-item\"><div class=\"sk-label-container\"><div class=\"sk-label sk-toggleable\"><input class=\"sk-toggleable__control sk-hidden--visually\" id=\"sk-estimator-id-26\" type=\"checkbox\" ><label for=\"sk-estimator-id-26\" class=\"sk-toggleable__label sk-toggleable__label-arrow\">Base: DecisionTreeRegressor</label><div class=\"sk-toggleable__content\"><pre>DecisionTreeRegressor(criterion=&#x27;friedman_mse&#x27;, max_depth=3)</pre></div></div></div><div class=\"sk-serial\"><div class=\"sk-item\"><div class=\"sk-estimator sk-toggleable\"><input class=\"sk-toggleable__control sk-hidden--visually\" id=\"sk-estimator-id-27\" type=\"checkbox\" ><label for=\"sk-estimator-id-27\" class=\"sk-toggleable__label sk-toggleable__label-arrow\">DecisionTreeRegressor</label><div class=\"sk-toggleable__content\"><pre>DecisionTreeRegressor(criterion=&#x27;friedman_mse&#x27;, max_depth=3)</pre></div></div></div></div></div></div></div></div></div></div>"
            ]
          },
          "metadata": {},
          "execution_count": 66
        }
      ],
      "source": [
        "ngb = NGBRegressor(n_estimators=100, learning_rate=0.01,\n",
        "             minibatch_frac=0.5, col_sample=0.5)\n",
        "weights = np.random.random(Y_reg_train.shape)\n",
        "ngb.fit(X_reg_train, Y_reg_train, sample_weight=weights)"
      ]
    }
  ],
  "metadata": {
    "kernelspec": {
      "display_name": "Python 3",
      "language": "python",
      "name": "python3"
    },
    "language_info": {
      "codemirror_mode": {
        "name": "ipython",
        "version": 3
      },
      "file_extension": ".py",
      "mimetype": "text/x-python",
      "name": "python",
      "nbconvert_exporter": "python",
      "pygments_lexer": "ipython3",
      "version": "3.7.7"
    },
    "colab": {
      "provenance": [],
      "include_colab_link": true
    }
  },
  "nbformat": 4,
  "nbformat_minor": 0
}